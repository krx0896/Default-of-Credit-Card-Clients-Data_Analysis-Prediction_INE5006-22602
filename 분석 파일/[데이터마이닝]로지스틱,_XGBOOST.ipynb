{
  "nbformat": 4,
  "nbformat_minor": 0,
  "metadata": {
    "colab": {
      "provenance": []
    },
    "kernelspec": {
      "name": "python3",
      "display_name": "Python 3"
    },
    "language_info": {
      "name": "python"
    }
  },
  "cells": [
    {
      "cell_type": "markdown",
      "source": [
        "# 데이터 불러오기"
      ],
      "metadata": {
        "id": "PODVCff50Dxw"
      }
    },
    {
      "cell_type": "code",
      "execution_count": null,
      "metadata": {
        "colab": {
          "resources": {
            "http://localhost:8080/nbextensions/google.colab/files.js": {
              "data": "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",
              "ok": true,
              "headers": [
                [
                  "content-type",
                  "application/javascript"
                ]
              ],
              "status": 200,
              "status_text": ""
            }
          },
          "base_uri": "https://localhost:8080/",
          "height": 311
        },
        "id": "TdRPSsLrz6nt",
        "outputId": "49564e01-48e7-4445-f4cd-ebd96a25d912"
      },
      "outputs": [
        {
          "output_type": "display_data",
          "data": {
            "text/plain": [
              "<IPython.core.display.HTML object>"
            ],
            "text/html": [
              "\n",
              "     <input type=\"file\" id=\"files-11b2e497-ed4b-41aa-9a7b-8aaf0b7a7b45\" name=\"files[]\" multiple disabled\n",
              "        style=\"border:none\" />\n",
              "     <output id=\"result-11b2e497-ed4b-41aa-9a7b-8aaf0b7a7b45\">\n",
              "      Upload widget is only available when the cell has been executed in the\n",
              "      current browser session. Please rerun this cell to enable.\n",
              "      </output>\n",
              "      <script src=\"/nbextensions/google.colab/files.js\"></script> "
            ]
          },
          "metadata": {}
        },
        {
          "output_type": "stream",
          "name": "stdout",
          "text": [
            "Saving card_Y.csv to card_Y.csv\n",
            "Saving default of credit card clients_del.csv to default of credit card clients_del.csv\n",
            "Saving default of credit card clients_dev&del.csv to default of credit card clients_dev&del.csv\n",
            "Saving default of credit card clients_dev.csv to default of credit card clients_dev.csv\n",
            "Saving default of credit card clients2.csv to default of credit card clients2.csv\n",
            "User uploades file \"{name}\" with length {length}bytes 90031\n",
            "User uploades file \"{name}\" with length {length}bytes 1571141\n",
            "User uploades file \"{name}\" with length {length}bytes 2235742\n",
            "User uploades file \"{name}\" with length {length}bytes 3292663\n",
            "User uploades file \"{name}\" with length {length}bytes 2609233\n"
          ]
        }
      ],
      "source": [
        "from google.colab import files\n",
        "uploaded = files.upload()\n",
        "\n",
        "for fn in uploaded.keys():\n",
        "    print('User uploades file \"{name}\" with length {length}bytes', format(len(uploaded[fn])))"
      ]
    },
    {
      "cell_type": "code",
      "source": [
        "import pandas as pd\n",
        "\n",
        "secom_data = pd.read_csv('default of credit card clients2.csv', sep = ',')\n",
        "data_or = secom_data.copy()\n",
        "secom_labels = pd.read_csv('card_Y.csv')\n",
        "label_or = secom_labels.copy()\n",
        "\n",
        "data_dev = pd.read_csv('default of credit card clients_dev.csv', sep = ',')\n",
        "data_del = pd.read_csv('default of credit card clients_del.csv', sep = ',')\n",
        "data_dev_del = pd.read_csv('default of credit card clients_dev&del.csv', sep = ',')"
      ],
      "metadata": {
        "id": "dVkXIWCiz7yQ"
      },
      "execution_count": null,
      "outputs": []
    },
    {
      "cell_type": "markdown",
      "source": [
        "# 데이터 정규화"
      ],
      "metadata": {
        "id": "DVSZDVvy0zim"
      }
    },
    {
      "cell_type": "code",
      "source": [
        "from sklearn.preprocessing import StandardScaler\n",
        "\n",
        "std_scaler = StandardScaler()\n",
        "# 오리지널 데이터\n",
        "std_scaler.fit(data_or)\n",
        "std = std_scaler.transform(data_or)\n",
        "data_or_sk = pd.DataFrame(std, columns = data_or.columns, index = list(data_or.index.values))\n",
        "# dev 데이터\n",
        "std_scaler.fit(data_dev)\n",
        "std = std_scaler.transform(data_dev)\n",
        "data_dev_sk = pd.DataFrame(std, columns = data_dev.columns, index = list(data_dev.index.values))\n",
        "# del 데이터\n",
        "std_scaler.fit(data_del)\n",
        "std = std_scaler.transform(data_del)\n",
        "data_del_sk = pd.DataFrame(std, columns = data_del.columns, index = list(data_del.index.values))\n",
        "# dev+del 데이터\n",
        "std_scaler.fit(data_dev_del)\n",
        "std = std_scaler.transform(data_dev_del)\n",
        "data_dev_del_sk = pd.DataFrame(std, columns = data_dev_del.columns, index = list(data_dev_del.index.values))"
      ],
      "metadata": {
        "id": "cNlTT2290qt5"
      },
      "execution_count": null,
      "outputs": []
    },
    {
      "cell_type": "markdown",
      "source": [
        "# 데이터 훈련셋과 검정셋 나누기 (스케일링 한거)"
      ],
      "metadata": {
        "id": "R2Zj3zuJ3S5n"
      }
    },
    {
      "cell_type": "code",
      "source": [
        "from sklearn.model_selection import train_test_split\n",
        "\n",
        "X_train1, X_test1, Y_train1, Y_test1 = train_test_split(data_or_sk, label_or, test_size = 0.2, random_state = 0)\n",
        "X_train2, X_test2, Y_train2, Y_test2 = train_test_split(data_dev_sk, label_or, test_size = 0.2, random_state = 0)\n",
        "X_train3, X_test3, Y_train3, Y_test3 = train_test_split(data_del_sk, label_or, test_size = 0.2, random_state = 0)\n",
        "X_train4, X_test4, Y_train4, Y_test4 = train_test_split(data_dev_del_sk, label_or, test_size = 0.2, random_state = 0)\n"
      ],
      "metadata": {
        "id": "qRq4tLiS2fg2"
      },
      "execution_count": null,
      "outputs": []
    },
    {
      "cell_type": "code",
      "source": [
        "from sklearn.model_selection import train_test_split\n",
        "\n",
        "X_train11, X_test11, Y_train11, Y_test11 = train_test_split(data_or, label_or, test_size = 0.2, random_state = 0)\n",
        "X_train21, X_test21, Y_train21, Y_test21 = train_test_split(data_dev, label_or, test_size = 0.2, random_state = 0)\n",
        "X_train31, X_test31, Y_train31, Y_test31 = train_test_split(data_del, label_or, test_size = 0.2, random_state = 0)\n",
        "X_train41, X_test41, Y_train41, Y_test41 = train_test_split(data_dev_del, label_or, test_size = 0.2, random_state = 0)"
      ],
      "metadata": {
        "id": "FLXLOyFpFnKO"
      },
      "execution_count": null,
      "outputs": []
    },
    {
      "cell_type": "markdown",
      "source": [
        "# 데이터 오버샘플링과 아닌거로 나누기"
      ],
      "metadata": {
        "id": "Ct9CaNFY2wXv"
      }
    },
    {
      "cell_type": "code",
      "source": [
        "from imblearn.over_sampling import SMOTE\n",
        "\n",
        "# scale 한거\n",
        "\n",
        "# smote = 0, original data\n",
        "smote1 = SMOTE(random_state = 42)\n",
        "data_over1, label_over1 = smote1.fit_resample(X_train1, Y_train1)\n",
        "label_over1.value_counts()\n",
        "\n",
        "# smote = 0, dev data\n",
        "smote2 = SMOTE(random_state = 42)\n",
        "data_over2, label_over2 = smote2.fit_resample(X_train2, Y_train2)\n",
        "label_over2.value_counts()\n",
        "\n",
        "# smote = 0, del data\n",
        "smote3 = SMOTE(random_state = 42)\n",
        "data_over3, label_over3 = smote3.fit_resample(X_train3, Y_train3)\n",
        "label_over3.value_counts()\n",
        "\n",
        "# smote = 0, dev&del data\n",
        "smote4 = SMOTE(random_state = 42)\n",
        "data_over4, label_over4 = smote4.fit_resample(X_train4, Y_train4)\n",
        "label_over4.value_counts()\n",
        "\n",
        "# smote 안한거, original data\n",
        "# smote 안한거, dev data\n",
        "# smote 안한거, del data\n",
        "# smote 안한거, dev&del data"
      ],
      "metadata": {
        "colab": {
          "base_uri": "https://localhost:8080/"
        },
        "id": "6YVtY_Gc3M-I",
        "outputId": "01fee536-ba3b-490b-e86f-6223a90187b5"
      },
      "execution_count": null,
      "outputs": [
        {
          "output_type": "execute_result",
          "data": {
            "text/plain": [
              "default payment next month\n",
              "0                             18661\n",
              "1                             18661\n",
              "dtype: int64"
            ]
          },
          "metadata": {},
          "execution_count": 70
        }
      ]
    },
    {
      "cell_type": "markdown",
      "source": [
        "# Random Forest"
      ],
      "metadata": {
        "id": "amj2I-Gb43S3"
      }
    },
    {
      "cell_type": "markdown",
      "source": [
        "## 그리드 서치"
      ],
      "metadata": {
        "id": "2JAP-ljK5jZ-"
      }
    },
    {
      "cell_type": "code",
      "source": [
        "from sklearn.model_selection import GridSearchCV\n",
        "from sklearn.ensemble import RandomForestClassifier\n",
        "import numpy as np\n",
        "\n",
        "from sklearn.metrics import f1_score, make_scorer\n",
        "f1 = make_scorer(f1_score , average='macro')\n",
        "\n",
        "# define the parameters grid\n",
        "param_grid = {'max_depth': np.arange(3, 10),\n",
        "             'criterion' : ['gini','entropy'],\n",
        "             'max_leaf_nodes': [5,10,20,100],\n",
        "             'min_samples_split': [2, 5, 10, 20]}\n",
        "\n",
        "# create the grid\n",
        "grid_tree = GridSearchCV(RandomForestClassifier(), param_grid, cv = 5, scoring= 'f1')\n",
        "# the cv option will be clear in a few cells\n",
        "\n",
        "#training\n",
        "grid_tree.fit(X_train1, Y_train1)\n",
        "#let's see the best estimator\n",
        "print(grid_tree.best_estimator_)\n",
        "#with its score\n",
        "print(np.abs(grid_tree.best_score_))"
      ],
      "metadata": {
        "id": "0aRVc0bJ33el"
      },
      "execution_count": null,
      "outputs": []
    },
    {
      "cell_type": "markdown",
      "source": [
        "RandomForestClassifier(criterion='entropy', max_depth=8, max_leaf_nodes=100) 0.4674145668459264"
      ],
      "metadata": {
        "id": "fbFjqlkP5rZH"
      }
    },
    {
      "cell_type": "code",
      "source": [
        "# 스케일 한거\n",
        "\n",
        "from sklearn.ensemble import RandomForestClassifier\n",
        "\n",
        "RFC_ov1 = RandomForestClassifier(bootstrap=True, criterion='entropy', max_depth=8, max_leaf_nodes=100)\n",
        "RFC_ov1.fit(data_over1, label_over1)\n",
        "RFC_pred_ov1 = RFC_ov1.predict(X_test1)\n",
        "\n",
        "RFC_ov2 = RandomForestClassifier(bootstrap=True, criterion='entropy', max_depth=8, max_leaf_nodes=100)\n",
        "RFC_ov2.fit(data_over2, label_over2)\n",
        "RFC_pred_ov2 = RFC_ov2.predict(X_test2)\n",
        "\n",
        "RFC_ov3 = RandomForestClassifier(bootstrap=True, criterion='entropy', max_depth=8, max_leaf_nodes=100)\n",
        "RFC_ov3.fit(data_over3, label_over3)\n",
        "RFC_pred_ov3 = RFC_ov3.predict(X_test3)\n",
        "\n",
        "RFC_ov4 = RandomForestClassifier(bootstrap=True, criterion='entropy', max_depth=8, max_leaf_nodes=100)\n",
        "RFC_ov4.fit(data_over4, label_over4)\n",
        "RFC_pred_ov4 = RFC_ov4.predict(X_test4)\n",
        "\n",
        "RFC1 = RandomForestClassifier(bootstrap=True, criterion='entropy', max_depth=8, max_leaf_nodes=100)\n",
        "RFC1.fit(X_train1, Y_train1)\n",
        "RFC_pred1 = RFC1.predict(X_test1)\n",
        "\n",
        "RFC2 = RandomForestClassifier(bootstrap=True, criterion='entropy', max_depth=8, max_leaf_nodes=100)\n",
        "RFC2.fit(X_train2, Y_train2)\n",
        "RFC_pred2 = RFC2.predict(X_test2)\n",
        "\n",
        "RFC3 = RandomForestClassifier(bootstrap=True, criterion='entropy', max_depth=8, max_leaf_nodes=100)\n",
        "RFC3.fit(X_train3, Y_train3)\n",
        "RFC_pred3 = RFC3.predict(X_test3)\n",
        "\n",
        "RFC4 = RandomForestClassifier(bootstrap=True, criterion='entropy', max_depth=8, max_leaf_nodes=100)\n",
        "RFC4.fit(X_train4, Y_train4)\n",
        "RFC_pred4 = RFC4.predict(X_test4)"
      ],
      "metadata": {
        "id": "Ty6PgO-L6KgX"
      },
      "execution_count": null,
      "outputs": []
    },
    {
      "cell_type": "markdown",
      "source": [
        "#스케일링한거"
      ],
      "metadata": {
        "id": "O-PxBc7qHiS3"
      }
    },
    {
      "cell_type": "code",
      "source": [
        "# 오버샘플링 O, 오리지널 데이터\n",
        "import warnings\n",
        "warnings.filterwarnings('ignore')\n",
        "\n",
        "from sklearn.metrics import confusion_matrix, classification_report, roc_auc_score, f1_score\n",
        "from sklearn.model_selection import cross_val_score, KFold\n",
        "\n",
        "kf = KFold(n_splits=10)\n",
        "print(classification_report(Y_test1, RFC_pred_ov1))\n",
        "print(\"교차 검증 점수: {:.4f}\".format(cross_val_score(RFC_ov1, X_test1, Y_test1, cv=kf).mean()))\n",
        "print(\"AUC 점수: {:.4f}\".format(roc_auc_score(Y_test1, RFC_pred_ov1)))\n",
        "print(\"F1-Score: {:.4f}\".format(f1_score(RFC_pred_ov1, Y_test1)))"
      ],
      "metadata": {
        "colab": {
          "base_uri": "https://localhost:8080/"
        },
        "id": "s_MZyckbah5E",
        "outputId": "09f3e897-32fb-4358-b51a-1fa56d25ee74"
      },
      "execution_count": null,
      "outputs": [
        {
          "output_type": "stream",
          "name": "stdout",
          "text": [
            "              precision    recall  f1-score   support\n",
            "\n",
            "           0       0.88      0.82      0.85      4703\n",
            "           1       0.48      0.59      0.53      1297\n",
            "\n",
            "    accuracy                           0.77      6000\n",
            "   macro avg       0.68      0.70      0.69      6000\n",
            "weighted avg       0.79      0.77      0.78      6000\n",
            "\n",
            "교차 검증 점수: 0.8287\n",
            "AUC 점수: 0.7043\n",
            "F1-Score: 0.5258\n"
          ]
        }
      ]
    },
    {
      "cell_type": "code",
      "source": [
        "# 오버샘플링 O, 편차 변수 추가 데이터\n",
        "print(classification_report(Y_test2, RFC_pred_ov2))\n",
        "print(\"교차 검증 점수: {:.4f}\".format(cross_val_score(RFC_ov2, X_test2, Y_test2, cv=kf).mean()))\n",
        "print(\"AUC 점수: {:.4f}\".format(roc_auc_score(Y_test2, RFC_pred_ov2)))\n",
        "print(\"F1-Score: {:.4f}\".format(f1_score(RFC_pred_ov2, Y_test2)))"
      ],
      "metadata": {
        "colab": {
          "base_uri": "https://localhost:8080/"
        },
        "id": "48EhVFHBgqwl",
        "outputId": "e101bcf5-4e86-4329-8714-868998f8bf56"
      },
      "execution_count": null,
      "outputs": [
        {
          "output_type": "stream",
          "name": "stdout",
          "text": [
            "              precision    recall  f1-score   support\n",
            "\n",
            "           0       0.88      0.85      0.86      4703\n",
            "           1       0.51      0.57      0.54      1297\n",
            "\n",
            "    accuracy                           0.79      6000\n",
            "   macro avg       0.69      0.71      0.70      6000\n",
            "weighted avg       0.80      0.79      0.79      6000\n",
            "\n",
            "교차 검증 점수: 0.8280\n",
            "AUC 점수: 0.7100\n",
            "F1-Score: 0.5383\n"
          ]
        }
      ]
    },
    {
      "cell_type": "code",
      "source": [
        "# 오버샘플링 O, 변수 삭제 데이터\n",
        "print(classification_report(Y_test3, RFC_pred_ov3))\n",
        "print(\"교차 검증 점수: {:.4f}\".format(cross_val_score(RFC_ov3, X_test3, Y_test3, cv=kf).mean()))\n",
        "print(\"AUC 점수: {:.4f}\".format(roc_auc_score(Y_test3, RFC_pred_ov3)))\n",
        "print(\"F1-Score: {:.4f}\".format(f1_score(RFC_pred_ov3, Y_test3)))"
      ],
      "metadata": {
        "colab": {
          "base_uri": "https://localhost:8080/"
        },
        "id": "QujP3UIghAW5",
        "outputId": "3a3dfe4e-7987-46b6-81f0-06f76bb045c0"
      },
      "execution_count": null,
      "outputs": [
        {
          "output_type": "stream",
          "name": "stdout",
          "text": [
            "              precision    recall  f1-score   support\n",
            "\n",
            "           0       0.88      0.81      0.84      4703\n",
            "           1       0.46      0.59      0.52      1297\n",
            "\n",
            "    accuracy                           0.76      6000\n",
            "   macro avg       0.67      0.70      0.68      6000\n",
            "weighted avg       0.79      0.76      0.77      6000\n",
            "\n",
            "교차 검증 점수: 0.8300\n",
            "AUC 점수: 0.7000\n",
            "F1-Score: 0.5182\n"
          ]
        }
      ]
    },
    {
      "cell_type": "code",
      "source": [
        "# 오버샘플링 O, 편차 변수 + 변수 삭제 데이터\n",
        "print(classification_report(Y_test4, RFC_pred_ov4))\n",
        "print(\"교차 검증 점수: {:.4f}\".format(cross_val_score(RFC_ov4, X_test4, Y_test4, cv=kf).mean()))\n",
        "print(\"AUC 점수: {:.4f}\".format(roc_auc_score(Y_test4, RFC_pred_ov4)))\n",
        "print(\"F1-Score: {:.4f}\".format(f1_score(RFC_pred_ov4, Y_test4)))"
      ],
      "metadata": {
        "colab": {
          "base_uri": "https://localhost:8080/"
        },
        "id": "j2rzp-L3hiB4",
        "outputId": "3c8fe972-53a5-42b6-b216-54af42976989"
      },
      "execution_count": null,
      "outputs": [
        {
          "output_type": "stream",
          "name": "stdout",
          "text": [
            "              precision    recall  f1-score   support\n",
            "\n",
            "           0       0.88      0.84      0.86      4703\n",
            "           1       0.49      0.57      0.53      1297\n",
            "\n",
            "    accuracy                           0.78      6000\n",
            "   macro avg       0.68      0.70      0.69      6000\n",
            "weighted avg       0.79      0.78      0.78      6000\n",
            "\n",
            "교차 검증 점수: 0.8312\n",
            "AUC 점수: 0.7027\n",
            "F1-Score: 0.5264\n"
          ]
        }
      ]
    },
    {
      "cell_type": "code",
      "source": [
        "# 오버샘플링 X, 오리지널 데이터\n",
        "print(classification_report(Y_test1, RFC_pred1))\n",
        "print(\"교차 검증 점수: {:.4f}\".format(cross_val_score(RFC1, X_test1, Y_test1, cv=kf).mean()))\n",
        "print(\"AUC 점수: {:.4f}\".format(roc_auc_score(Y_test1, RFC_pred1)))\n",
        "print(\"F1-Score: {:.4f}\".format(f1_score(RFC_pred1, Y_test1)))"
      ],
      "metadata": {
        "colab": {
          "base_uri": "https://localhost:8080/"
        },
        "id": "jqIVeBpmhvBe",
        "outputId": "5cc8c57d-5663-41a4-930a-8a769b712949"
      },
      "execution_count": null,
      "outputs": [
        {
          "output_type": "stream",
          "name": "stdout",
          "text": [
            "              precision    recall  f1-score   support\n",
            "\n",
            "           0       0.84      0.96      0.90      4703\n",
            "           1       0.70      0.36      0.47      1297\n",
            "\n",
            "    accuracy                           0.83      6000\n",
            "   macro avg       0.77      0.66      0.68      6000\n",
            "weighted avg       0.81      0.83      0.81      6000\n",
            "\n",
            "교차 검증 점수: 0.8265\n",
            "AUC 점수: 0.6574\n",
            "F1-Score: 0.4727\n"
          ]
        }
      ]
    },
    {
      "cell_type": "code",
      "source": [
        "# 오버샘플링 X, 편차 변수 추가 데이터\n",
        "print(classification_report(Y_test2, RFC_pred2))\n",
        "print(\"교차 검증 점수: {:.4f}\".format(cross_val_score(RFC2, X_test2, Y_test2, cv=kf).mean()))\n",
        "print(\"AUC 점수: {:.4f}\".format(roc_auc_score(Y_test2, RFC_pred2)))\n",
        "print(\"F1-Score: {:.4f}\".format(f1_score(RFC_pred2, Y_test2)))"
      ],
      "metadata": {
        "colab": {
          "base_uri": "https://localhost:8080/"
        },
        "id": "5i1pF0Vch_Ke",
        "outputId": "665a62e6-17aa-435c-9e2b-b006dedf3931"
      },
      "execution_count": null,
      "outputs": [
        {
          "output_type": "stream",
          "name": "stdout",
          "text": [
            "              precision    recall  f1-score   support\n",
            "\n",
            "           0       0.84      0.96      0.90      4703\n",
            "           1       0.70      0.36      0.48      1297\n",
            "\n",
            "    accuracy                           0.83      6000\n",
            "   macro avg       0.77      0.66      0.69      6000\n",
            "weighted avg       0.81      0.83      0.81      6000\n",
            "\n",
            "교차 검증 점수: 0.8280\n",
            "AUC 점수: 0.6589\n",
            "F1-Score: 0.4759\n"
          ]
        }
      ]
    },
    {
      "cell_type": "code",
      "source": [
        "# 오버샘플링 X, 변수 삭제 데이터\n",
        "print(classification_report(Y_test3, RFC_pred3))\n",
        "print(\"교차 검증 점수: {:.4f}\".format(cross_val_score(RFC3, X_test3, Y_test3, cv=kf).mean()))\n",
        "print(\"AUC 점수: {:.4f}\".format(roc_auc_score(Y_test3, RFC_pred3)))\n",
        "print(\"F1-Score: {:.4f}\".format(f1_score(RFC_pred3, Y_test3)))"
      ],
      "metadata": {
        "colab": {
          "base_uri": "https://localhost:8080/"
        },
        "id": "c_i5nlEuiL8l",
        "outputId": "9d6e9fa4-60ab-4ef2-fbfe-a189b95fc09c"
      },
      "execution_count": null,
      "outputs": [
        {
          "output_type": "stream",
          "name": "stdout",
          "text": [
            "              precision    recall  f1-score   support\n",
            "\n",
            "           0       0.84      0.95      0.90      4703\n",
            "           1       0.69      0.36      0.48      1297\n",
            "\n",
            "    accuracy                           0.83      6000\n",
            "   macro avg       0.77      0.66      0.69      6000\n",
            "weighted avg       0.81      0.83      0.81      6000\n",
            "\n",
            "교차 검증 점수: 0.8295\n",
            "AUC 점수: 0.6596\n",
            "F1-Score: 0.4768\n"
          ]
        }
      ]
    },
    {
      "cell_type": "code",
      "source": [
        "# 오버샘플링 X, 편차 변수 + 변수 삭제 데이터\n",
        "print(classification_report(Y_test4, RFC_pred4))\n",
        "print(\"교차 검증 점수: {:.4f}\".format(cross_val_score(RFC4, X_test4, Y_test4, cv=kf).mean()))\n",
        "print(\"AUC 점수: {:.4f}\".format(roc_auc_score(Y_test4, RFC_pred4)))\n",
        "print(\"F1-Score: {:.4f}\".format(f1_score(RFC_pred4, Y_test4)))"
      ],
      "metadata": {
        "colab": {
          "base_uri": "https://localhost:8080/"
        },
        "id": "Y3KXcMhDiaCV",
        "outputId": "8785a6eb-63b1-4fad-86e6-68cfab566208"
      },
      "execution_count": null,
      "outputs": [
        {
          "output_type": "stream",
          "name": "stdout",
          "text": [
            "              precision    recall  f1-score   support\n",
            "\n",
            "           0       0.85      0.96      0.90      4703\n",
            "           1       0.72      0.37      0.49      1297\n",
            "\n",
            "    accuracy                           0.83      6000\n",
            "   macro avg       0.78      0.66      0.69      6000\n",
            "weighted avg       0.82      0.83      0.81      6000\n",
            "\n",
            "교차 검증 점수: 0.8293\n",
            "AUC 점수: 0.6635\n",
            "F1-Score: 0.4855\n"
          ]
        }
      ]
    },
    {
      "cell_type": "markdown",
      "source": [
        "# 스케일링 안한거"
      ],
      "metadata": {
        "id": "VL4IibJuHvwH"
      }
    },
    {
      "cell_type": "code",
      "source": [
        "from imblearn.over_sampling import SMOTE\n",
        "\n",
        "#scale 안한거\n",
        "\n",
        "# smote = 0, original data\n",
        "smote11 = SMOTE(random_state = 42)\n",
        "data_over11, label_over11 = smote11.fit_resample(X_train11, Y_train11)\n",
        "label_over11.value_counts()\n",
        "\n",
        "# smote = 0, dev data\n",
        "smote21 = SMOTE(random_state = 42)\n",
        "data_over21, label_over21 = smote21.fit_resample(X_train21, Y_train21)\n",
        "label_over21.value_counts()\n",
        "\n",
        "# smote = 0, del data\n",
        "smote31 = SMOTE(random_state = 42)\n",
        "data_over31, label_over31 = smote31.fit_resample(X_train31, Y_train31)\n",
        "label_over31.value_counts()\n",
        "\n",
        "# smote = 0, dev&del data\n",
        "smote41 = SMOTE(random_state = 42)\n",
        "data_over41, label_over41 = smote41.fit_resample(X_train41, Y_train41)\n",
        "label_over41.value_counts()"
      ],
      "metadata": {
        "colab": {
          "base_uri": "https://localhost:8080/"
        },
        "id": "1l57cB_DGTe9",
        "outputId": "615fd392-e2c4-4dfc-efcc-3d47a0d5ef2b"
      },
      "execution_count": null,
      "outputs": [
        {
          "output_type": "execute_result",
          "data": {
            "text/plain": [
              "default payment next month\n",
              "0                             18661\n",
              "1                             18661\n",
              "dtype: int64"
            ]
          },
          "metadata": {},
          "execution_count": 58
        }
      ]
    },
    {
      "cell_type": "code",
      "source": [
        "from sklearn.ensemble import RandomForestClassifier\n",
        "\n",
        "RFC_ov11 = RandomForestClassifier(bootstrap=True, criterion='entropy', max_depth=8, max_leaf_nodes=100)\n",
        "RFC_ov11.fit(data_over11, label_over11)\n",
        "RFC_pred_ov11 = RFC_ov11.predict(X_test11)\n",
        "\n",
        "RFC_ov21 = RandomForestClassifier(bootstrap=True, criterion='entropy', max_depth=8, max_leaf_nodes=100)\n",
        "RFC_ov21.fit(data_over21, label_over21)\n",
        "RFC_pred_ov21 = RFC_ov21.predict(X_test21)\n",
        "\n",
        "RFC_ov31 = RandomForestClassifier(bootstrap=True, criterion='entropy', max_depth=8, max_leaf_nodes=100)\n",
        "RFC_ov31.fit(data_over31, label_over31)\n",
        "RFC_pred_ov31 = RFC_ov31.predict(X_test31)\n",
        "\n",
        "RFC_ov41 = RandomForestClassifier(bootstrap=True, criterion='entropy', max_depth=8, max_leaf_nodes=100)\n",
        "RFC_ov41.fit(data_over41, label_over41)\n",
        "RFC_pred_ov41 = RFC_ov41.predict(X_test41)\n",
        "\n",
        "RFC11 = RandomForestClassifier(bootstrap=True, criterion='entropy', max_depth=8, max_leaf_nodes=100)\n",
        "RFC11.fit(X_train11, Y_train11)\n",
        "RFC_pred11 = RFC11.predict(X_test11)\n",
        "\n",
        "RFC21 = RandomForestClassifier(bootstrap=True, criterion='entropy', max_depth=8, max_leaf_nodes=100)\n",
        "RFC21.fit(X_train21, Y_train21)\n",
        "RFC_pred21 = RFC21.predict(X_test21)\n",
        "\n",
        "RFC31 = RandomForestClassifier(bootstrap=True, criterion='entropy', max_depth=8, max_leaf_nodes=100)\n",
        "RFC31.fit(X_train31, Y_train31)\n",
        "RFC_pred31 = RFC31.predict(X_test31)\n",
        "\n",
        "RFC41 = RandomForestClassifier(bootstrap=True, criterion='entropy', max_depth=8, max_leaf_nodes=100)\n",
        "RFC41.fit(X_train41, Y_train41)\n",
        "RFC_pred41 = RFC41.predict(X_test41)"
      ],
      "metadata": {
        "id": "uumNEh6IGzzX"
      },
      "execution_count": null,
      "outputs": []
    },
    {
      "cell_type": "code",
      "source": [
        "# 오버샘플링 O, 오리지널 데이터\n",
        "import warnings\n",
        "warnings.filterwarnings('ignore')\n",
        "\n",
        "from sklearn.metrics import confusion_matrix, classification_report, roc_auc_score, f1_score\n",
        "from sklearn.model_selection import cross_val_score, KFold\n",
        "\n",
        "kf = KFold(n_splits=10)\n",
        "print(classification_report(Y_test11, RFC_pred_ov11))\n",
        "print(\"교차 검증 점수: {:.4f}\".format(cross_val_score(RFC_ov11, X_test11, Y_test11, cv=kf).mean()))\n",
        "print(\"AUC 점수: {:.4f}\".format(roc_auc_score(Y_test11, RFC_pred_ov11)))\n",
        "print(\"F1-Score: {:.4f}\".format(f1_score(RFC_pred_ov11, Y_test11)))"
      ],
      "metadata": {
        "colab": {
          "base_uri": "https://localhost:8080/"
        },
        "id": "R4u20KAMHscO",
        "outputId": "f5fc348c-a7a6-49ce-ef86-536fc4408efd"
      },
      "execution_count": null,
      "outputs": [
        {
          "output_type": "stream",
          "name": "stdout",
          "text": [
            "              precision    recall  f1-score   support\n",
            "\n",
            "           0       0.87      0.81      0.84      4703\n",
            "           1       0.45      0.56      0.50      1297\n",
            "\n",
            "    accuracy                           0.76      6000\n",
            "   macro avg       0.66      0.69      0.67      6000\n",
            "weighted avg       0.78      0.76      0.77      6000\n",
            "\n",
            "교차 검증 점수: 0.8268\n",
            "AUC 점수: 0.6882\n",
            "F1-Score: 0.5026\n"
          ]
        }
      ]
    },
    {
      "cell_type": "code",
      "source": [
        "# 오버샘플링 O, 편차 변수 추가 데이터\n",
        "print(classification_report(Y_test21, RFC_pred_ov21))\n",
        "print(\"교차 검증 점수: {:.4f}\".format(cross_val_score(RFC_ov21, X_test21, Y_test21, cv=kf).mean()))\n",
        "print(\"AUC 점수: {:.4f}\".format(roc_auc_score(Y_test21, RFC_pred_ov21)))\n",
        "print(\"F1-Score: {:.4f}\".format(f1_score(RFC_pred_ov21, Y_test21)))"
      ],
      "metadata": {
        "colab": {
          "base_uri": "https://localhost:8080/"
        },
        "id": "54BCbwK3IEr_",
        "outputId": "c511c214-2566-4e73-8bc7-b88147d51c77"
      },
      "execution_count": null,
      "outputs": [
        {
          "output_type": "stream",
          "name": "stdout",
          "text": [
            "              precision    recall  f1-score   support\n",
            "\n",
            "           0       0.87      0.82      0.84      4703\n",
            "           1       0.46      0.55      0.50      1297\n",
            "\n",
            "    accuracy                           0.76      6000\n",
            "   macro avg       0.66      0.69      0.67      6000\n",
            "weighted avg       0.78      0.76      0.77      6000\n",
            "\n",
            "교차 검증 점수: 0.8280\n",
            "AUC 점수: 0.6874\n",
            "F1-Score: 0.5028\n"
          ]
        }
      ]
    },
    {
      "cell_type": "code",
      "source": [
        "# 오버샘플링 O, 변수 삭제 데이터\n",
        "print(classification_report(Y_test31, RFC_pred_ov31))\n",
        "print(\"교차 검증 점수: {:.4f}\".format(cross_val_score(RFC_ov31, X_test31, Y_test31, cv=kf).mean()))\n",
        "print(\"AUC 점수: {:.4f}\".format(roc_auc_score(Y_test31, RFC_pred_ov31)))\n",
        "print(\"F1-Score: {:.4f}\".format(f1_score(RFC_pred_ov31, Y_test31)))"
      ],
      "metadata": {
        "colab": {
          "base_uri": "https://localhost:8080/"
        },
        "id": "bLKEoPuOIXne",
        "outputId": "38008452-3c1c-4c5a-aa9d-943e01845cf6"
      },
      "execution_count": null,
      "outputs": [
        {
          "output_type": "stream",
          "name": "stdout",
          "text": [
            "              precision    recall  f1-score   support\n",
            "\n",
            "           0       0.87      0.81      0.84      4703\n",
            "           1       0.45      0.55      0.49      1297\n",
            "\n",
            "    accuracy                           0.76      6000\n",
            "   macro avg       0.66      0.68      0.67      6000\n",
            "weighted avg       0.78      0.76      0.76      6000\n",
            "\n",
            "교차 검증 점수: 0.8287\n",
            "AUC 점수: 0.6821\n",
            "F1-Score: 0.4945\n"
          ]
        }
      ]
    },
    {
      "cell_type": "code",
      "source": [
        "# 오버샘플링 O, 편차 변수 + 변수 삭제 데이터\n",
        "print(classification_report(Y_test41, RFC_pred_ov41))\n",
        "print(\"교차 검증 점수: {:.4f}\".format(cross_val_score(RFC_ov41, X_test41, Y_test41, cv=kf).mean()))\n",
        "print(\"AUC 점수: {:.4f}\".format(roc_auc_score(Y_test41, RFC_pred_ov41)))\n",
        "print(\"F1-Score: {:.4f}\".format(f1_score(RFC_pred_ov41, Y_test41)))"
      ],
      "metadata": {
        "colab": {
          "base_uri": "https://localhost:8080/"
        },
        "id": "9SiJk7t-IlF-",
        "outputId": "d5a99370-e5ac-4e0d-8ac5-5ba2d1c96b36"
      },
      "execution_count": null,
      "outputs": [
        {
          "output_type": "stream",
          "name": "stdout",
          "text": [
            "              precision    recall  f1-score   support\n",
            "\n",
            "           0       0.87      0.81      0.84      4703\n",
            "           1       0.45      0.55      0.49      1297\n",
            "\n",
            "    accuracy                           0.75      6000\n",
            "   macro avg       0.66      0.68      0.67      6000\n",
            "weighted avg       0.78      0.75      0.76      6000\n",
            "\n",
            "교차 검증 점수: 0.8308\n",
            "AUC 점수: 0.6819\n",
            "F1-Score: 0.4938\n"
          ]
        }
      ]
    },
    {
      "cell_type": "code",
      "source": [
        "# 오버샘플링 X, 오리지널 데이터\n",
        "print(classification_report(Y_test11, RFC_pred11))\n",
        "print(\"교차 검증 점수: {:.4f}\".format(cross_val_score(RFC11, X_test11, Y_test11, cv=kf).mean()))\n",
        "print(\"AUC 점수: {:.4f}\".format(roc_auc_score(Y_test11, RFC_pred11)))\n",
        "print(\"F1-Score: {:.4f}\".format(f1_score(RFC_pred11, Y_test11)))"
      ],
      "metadata": {
        "colab": {
          "base_uri": "https://localhost:8080/"
        },
        "id": "1HBAgHwpIzPe",
        "outputId": "82fa5da2-6045-4b68-f404-7c3b809fd6a2"
      },
      "execution_count": null,
      "outputs": [
        {
          "output_type": "stream",
          "name": "stdout",
          "text": [
            "              precision    recall  f1-score   support\n",
            "\n",
            "           0       0.84      0.96      0.90      4703\n",
            "           1       0.69      0.36      0.47      1297\n",
            "\n",
            "    accuracy                           0.83      6000\n",
            "   macro avg       0.77      0.66      0.69      6000\n",
            "weighted avg       0.81      0.83      0.81      6000\n",
            "\n",
            "교차 검증 점수: 0.8272\n",
            "AUC 점수: 0.6579\n",
            "F1-Score: 0.4736\n"
          ]
        }
      ]
    },
    {
      "cell_type": "code",
      "source": [
        "# 오버샘플링 X, 편차 변수 추가 데이터\n",
        "print(classification_report(Y_test21, RFC_pred21))\n",
        "print(\"교차 검증 점수: {:.4f}\".format(cross_val_score(RFC21, X_test21, Y_test21, cv=kf).mean()))\n",
        "print(\"AUC 점수: {:.4f}\".format(roc_auc_score(Y_test21, RFC_pred21)))\n",
        "print(\"F1-Score: {:.4f}\".format(f1_score(RFC_pred21, Y_test21)))"
      ],
      "metadata": {
        "colab": {
          "base_uri": "https://localhost:8080/"
        },
        "id": "NYpy74ziJFbW",
        "outputId": "5db28fe2-6021-41ac-bf84-d8a32f263a6e"
      },
      "execution_count": null,
      "outputs": [
        {
          "output_type": "stream",
          "name": "stdout",
          "text": [
            "              precision    recall  f1-score   support\n",
            "\n",
            "           0       0.84      0.96      0.90      4703\n",
            "           1       0.70      0.36      0.47      1297\n",
            "\n",
            "    accuracy                           0.83      6000\n",
            "   macro avg       0.77      0.66      0.69      6000\n",
            "weighted avg       0.81      0.83      0.81      6000\n",
            "\n",
            "교차 검증 점수: 0.8293\n",
            "AUC 점수: 0.6584\n",
            "F1-Score: 0.4748\n"
          ]
        }
      ]
    },
    {
      "cell_type": "code",
      "source": [
        "\n",
        "# 오버샘플링 X, 변수 삭제 데이터\n",
        "print(classification_report(Y_test31, RFC_pred31))\n",
        "print(\"교차 검증 점수: {:.4f}\".format(cross_val_score(RFC31, X_test31, Y_test31, cv=kf).mean()))\n",
        "print(\"AUC 점수: {:.4f}\".format(roc_auc_score(Y_test31, RFC_pred31)))\n",
        "print(\"F1-Score: {:.4f}\".format(f1_score(RFC_pred31, Y_test31)))"
      ],
      "metadata": {
        "colab": {
          "base_uri": "https://localhost:8080/"
        },
        "id": "xIta0lHiJGlY",
        "outputId": "00b1f65b-7903-40fe-df78-73fac1657514"
      },
      "execution_count": null,
      "outputs": [
        {
          "output_type": "stream",
          "name": "stdout",
          "text": [
            "              precision    recall  f1-score   support\n",
            "\n",
            "           0       0.85      0.95      0.90      4703\n",
            "           1       0.69      0.37      0.49      1297\n",
            "\n",
            "    accuracy                           0.83      6000\n",
            "   macro avg       0.77      0.66      0.69      6000\n",
            "weighted avg       0.81      0.83      0.81      6000\n",
            "\n",
            "교차 검증 점수: 0.8302\n",
            "AUC 점수: 0.6645\n",
            "F1-Score: 0.4865\n"
          ]
        }
      ]
    },
    {
      "cell_type": "code",
      "source": [
        "# 오버샘플링 X, 편차 변수 + 변수 삭제 데이터\n",
        "print(classification_report(Y_test41, RFC_pred41))\n",
        "print(\"교차 검증 점수: {:.4f}\".format(cross_val_score(RFC41, X_test41, Y_test41, cv=kf).mean()))\n",
        "print(\"AUC 점수: {:.4f}\".format(roc_auc_score(Y_test41, RFC_pred41)))\n",
        "print(\"F1-Score: {:.4f}\".format(f1_score(RFC_pred41, Y_test41)))"
      ],
      "metadata": {
        "colab": {
          "base_uri": "https://localhost:8080/"
        },
        "id": "0NKeCiVYJF_u",
        "outputId": "614158c1-492b-4ea9-fdbf-22c5ef35d28c"
      },
      "execution_count": null,
      "outputs": [
        {
          "output_type": "stream",
          "name": "stdout",
          "text": [
            "              precision    recall  f1-score   support\n",
            "\n",
            "           0       0.85      0.96      0.90      4703\n",
            "           1       0.70      0.37      0.48      1297\n",
            "\n",
            "    accuracy                           0.83      6000\n",
            "   macro avg       0.77      0.66      0.69      6000\n",
            "weighted avg       0.82      0.83      0.81      6000\n",
            "\n",
            "교차 검증 점수: 0.8308\n",
            "AUC 점수: 0.6625\n",
            "F1-Score: 0.4830\n"
          ]
        }
      ]
    },
    {
      "cell_type": "markdown",
      "source": [
        "# XGBOOSTING"
      ],
      "metadata": {
        "id": "2N_ZXCrg_Pm4"
      }
    },
    {
      "cell_type": "markdown",
      "source": [
        "## 그리드 서치"
      ],
      "metadata": {
        "id": "u7hxebs1BPh4"
      }
    },
    {
      "cell_type": "code",
      "source": [
        "from xgboost import plot_importance\n",
        "from xgboost import XGBClassifier\n",
        "\n",
        "xgb = XGBClassifier()\n",
        "\n",
        "xgb_param_grid = {\n",
        "    'n_estimators' : [100, 200, 400, 600],\n",
        "    'learning_rate' : [0.01, 0.05, 0.1, 0.15, 0.2],\n",
        "    'max_depth' : [4, 6, 8, 10, 12],\n",
        "}\n",
        "\n",
        "xgb_grid = GridSearchCV(xgb, param_grid = xgb_param_grid, scoring=\"f1\", n_jobs= -1, verbose = 1)\n",
        "xgb_grid.fit(data_over1, label_over1)\n",
        "\n",
        "print(xgb_grid.best_estimator_)\n",
        "print(np.abs(xgb_grid.best_score_))"
      ],
      "metadata": {
        "id": "D-7G14at97mE"
      },
      "execution_count": null,
      "outputs": []
    },
    {
      "cell_type": "markdown",
      "source": [
        "XGBClassifier(max_depth=12, n_estimators=600)\n",
        "0.8470115199979323 -> 정확도 기준\n",
        "Fitting 5 folds for each of 45 candidates, totalling 225 fits\n",
        "XGBClassifier(learning_rate=0.2, max_depth=12, n_estimators=400)\n",
        "0.8309240019524131 -> F1 기준"
      ],
      "metadata": {
        "id": "T9sMKIznBgVh"
      }
    },
    {
      "cell_type": "code",
      "source": [
        "\n",
        "from xgboost import XGBClassifier\n",
        "\n",
        "xgb_ov1 = XGBClassifier(n_estimators=300, learning_rate = 0.01, max_depth = 6)\n",
        "xgb_ov1.fit(data_over1, label_over1)\n",
        "xgb_pred_ov1 = xgb_ov1.predict(X_test1)\n",
        "\n",
        "xgb_ov2 = XGBClassifier(n_estimators=300, learning_rate = 0.01, max_depth = 6)\n",
        "xgb_ov2.fit(data_over2, label_over2)\n",
        "xgb_pred_ov2 = xgb_ov2.predict(X_test2)\n",
        "\n",
        "xgb_ov3 = XGBClassifier(n_estimators=300, learning_rate = 0.01, max_depth = 6)\n",
        "xgb_ov3.fit(data_over3, label_over3)\n",
        "xgb_pred_ov3 = xgb_ov3.predict(X_test3)\n",
        "\n",
        "xgb_ov4 = XGBClassifier(n_estimators=300, learning_rate = 0.01, max_depth = 6)\n",
        "xgb_ov4.fit(data_over4, label_over4)\n",
        "xgb_pred_ov4 = xgb_ov4.predict(X_test4)\n",
        "\n",
        "xgb1 = XGBClassifier(n_estimators=300, learning_rate = 0.01, max_depth = 6)\n",
        "xgb1.fit(X_train1, Y_train1)\n",
        "xgb_pred1 = xgb1.predict(X_test1)\n",
        "\n",
        "xgb2 = XGBClassifier(n_estimators=300, learning_rate = 0.01, max_depth = 6)\n",
        "xgb2.fit(X_train2, Y_train2)\n",
        "xgb_pred2 = xgb2.predict(X_test2)\n",
        "\n",
        "xgb3 = XGBClassifier(n_estimators=300, learning_rate = 0.01, max_depth = 6)\n",
        "xgb3.fit(X_train3, Y_train3)\n",
        "xgb_pred3 = xgb3.predict(X_test3)\n",
        "\n",
        "xgb4 = XGBClassifier(n_estimators=300, learning_rate = 0.01, max_depth = 6)\n",
        "xgb4.fit(X_train4, Y_train4)\n",
        "xgb_pred4 = xgb4.predict(X_test4)"
      ],
      "metadata": {
        "id": "Kj7ZUw6zBh6s"
      },
      "execution_count": null,
      "outputs": []
    },
    {
      "cell_type": "code",
      "source": [
        "# 오버샘플링 O, 오리지널 데이터\n",
        "print(classification_report(Y_test1, xgb_pred_ov1))\n",
        "print(\"교차 검증 점수: {:.4f}\".format(cross_val_score(xgb_ov1, X_test1, Y_test1, cv=kf).mean()))\n",
        "print(\"AUC 점수: {:.4f}\".format(roc_auc_score(Y_test1, xgb_pred_ov1)))\n",
        "print(\"F1-Score: {:.4f}\".format(f1_score(xgb_pred_ov1, Y_test1)))"
      ],
      "metadata": {
        "colab": {
          "base_uri": "https://localhost:8080/"
        },
        "id": "FodX2Z9JipLF",
        "outputId": "3bf8d721-2dce-4f4e-b890-07f1abfc693c"
      },
      "execution_count": null,
      "outputs": [
        {
          "output_type": "stream",
          "name": "stdout",
          "text": [
            "              precision    recall  f1-score   support\n",
            "\n",
            "           0       0.87      0.85      0.86      4703\n",
            "           1       0.51      0.55      0.53      1297\n",
            "\n",
            "    accuracy                           0.79      6000\n",
            "   macro avg       0.69      0.70      0.70      6000\n",
            "weighted avg       0.79      0.79      0.79      6000\n",
            "\n",
            "교차 검증 점수: 0.8273\n",
            "AUC 점수: 0.7009\n",
            "F1-Score: 0.5275\n"
          ]
        }
      ]
    },
    {
      "cell_type": "code",
      "source": [
        "# 오버샘플링 O, 편차 변수 추가 데이터\n",
        "print(classification_report(Y_test2, xgb_pred_ov2))\n",
        "print(\"교차 검증 점수: {:.4f}\".format(cross_val_score(xgb_ov2, X_test2, Y_test2, cv=kf).mean()))\n",
        "print(\"AUC 점수: {:.4f}\".format(roc_auc_score(Y_test2, xgb_pred_ov2)))\n",
        "print(\"F1-Score: {:.4f}\".format(f1_score(xgb_pred_ov2, Y_test2)))"
      ],
      "metadata": {
        "colab": {
          "base_uri": "https://localhost:8080/"
        },
        "id": "srtqAKg8i2Z2",
        "outputId": "ee33ecc1-bb82-433e-d36d-20d5f92ccf98"
      },
      "execution_count": null,
      "outputs": [
        {
          "output_type": "stream",
          "name": "stdout",
          "text": [
            "              precision    recall  f1-score   support\n",
            "\n",
            "           0       0.87      0.88      0.87      4703\n",
            "           1       0.54      0.52      0.53      1297\n",
            "\n",
            "    accuracy                           0.80      6000\n",
            "   macro avg       0.71      0.70      0.70      6000\n",
            "weighted avg       0.80      0.80      0.80      6000\n",
            "\n",
            "교차 검증 점수: 0.8245\n",
            "AUC 점수: 0.7013\n",
            "F1-Score: 0.5335\n"
          ]
        }
      ]
    },
    {
      "cell_type": "code",
      "source": [
        "# 오버샘플링 O, 변수 삭제 데이터\n",
        "print(classification_report(Y_test3, xgb_pred_ov3))\n",
        "print(\"교차 검증 점수: {:.4f}\".format(cross_val_score(xgb_ov3, X_test3, Y_test3, cv=kf).mean()))\n",
        "print(\"AUC 점수: {:.4f}\".format(roc_auc_score(Y_test3, xgb_pred_ov3)))\n",
        "print(\"F1-Score: {:.4f}\".format(f1_score(xgb_pred_ov3, Y_test3)))"
      ],
      "metadata": {
        "colab": {
          "base_uri": "https://localhost:8080/"
        },
        "id": "Y0ZRJLByjFCl",
        "outputId": "f456f4fa-1d93-436c-c206-96e768cf3ab4"
      },
      "execution_count": null,
      "outputs": [
        {
          "output_type": "stream",
          "name": "stdout",
          "text": [
            "              precision    recall  f1-score   support\n",
            "\n",
            "           0       0.87      0.85      0.86      4703\n",
            "           1       0.49      0.54      0.51      1297\n",
            "\n",
            "    accuracy                           0.78      6000\n",
            "   macro avg       0.68      0.69      0.69      6000\n",
            "weighted avg       0.79      0.78      0.78      6000\n",
            "\n",
            "교차 검증 점수: 0.8287\n",
            "AUC 점수: 0.6926\n",
            "F1-Score: 0.5140\n"
          ]
        }
      ]
    },
    {
      "cell_type": "code",
      "source": [
        "# 오버샘플링 O, 편차 변수 + 변수 삭제 데이터\n",
        "print(classification_report(Y_test4, xgb_pred_ov4))\n",
        "print(\"교차 검증 점수: {:.4f}\".format(cross_val_score(xgb_ov4, X_test4, Y_test4, cv=kf).mean()))\n",
        "print(\"AUC 점수: {:.4f}\".format(roc_auc_score(Y_test4, xgb_pred_ov4)))\n",
        "print(\"F1-Score: {:.4f}\".format(f1_score(xgb_pred_ov4, Y_test4)))"
      ],
      "metadata": {
        "colab": {
          "base_uri": "https://localhost:8080/"
        },
        "id": "8Vyi2B8QjNeF",
        "outputId": "b991bb3b-a61a-4dad-c01e-ec87c59266ef"
      },
      "execution_count": null,
      "outputs": [
        {
          "output_type": "stream",
          "name": "stdout",
          "text": [
            "              precision    recall  f1-score   support\n",
            "\n",
            "           0       0.87      0.87      0.87      4703\n",
            "           1       0.52      0.52      0.52      1297\n",
            "\n",
            "    accuracy                           0.79      6000\n",
            "   macro avg       0.70      0.70      0.70      6000\n",
            "weighted avg       0.79      0.79      0.79      6000\n",
            "\n",
            "교차 검증 점수: 0.8265\n",
            "AUC 점수: 0.6965\n",
            "F1-Score: 0.5243\n"
          ]
        }
      ]
    },
    {
      "cell_type": "code",
      "source": [
        "\n",
        "# 오버샘플링 X, 오리지널 데이터\n",
        "print(classification_report(Y_test1, xgb_pred1))\n",
        "print(\"교차 검증 점수: {:.4f}\".format(cross_val_score(xgb1, X_test1, Y_test1, cv=kf).mean()))\n",
        "print(\"AUC 점수: {:.4f}\".format(roc_auc_score(Y_test1, xgb_pred1)))\n",
        "print(\"F1-Score: {:.4f}\".format(f1_score(xgb_pred1, Y_test1)))"
      ],
      "metadata": {
        "colab": {
          "base_uri": "https://localhost:8080/"
        },
        "id": "fSJsfeDgkPAY",
        "outputId": "df289429-8f5d-45b6-d0e1-51bc47ef4517"
      },
      "execution_count": null,
      "outputs": [
        {
          "output_type": "stream",
          "name": "stdout",
          "text": [
            "              precision    recall  f1-score   support\n",
            "\n",
            "           0       0.84      0.96      0.90      4703\n",
            "           1       0.69      0.36      0.48      1297\n",
            "\n",
            "    accuracy                           0.83      6000\n",
            "   macro avg       0.77      0.66      0.69      6000\n",
            "weighted avg       0.81      0.83      0.81      6000\n",
            "\n",
            "교차 검증 점수: 0.8273\n",
            "AUC 점수: 0.6599\n",
            "F1-Score: 0.4775\n"
          ]
        }
      ]
    },
    {
      "cell_type": "code",
      "source": [
        "# 오버샘플링 X, 편차 변수 추가 데이터\n",
        "print(classification_report(Y_test2, xgb_pred2))\n",
        "print(\"교차 검증 점수: {:.4f}\".format(cross_val_score(xgb2, X_test2, Y_test2, cv=kf).mean()))\n",
        "print(\"AUC 점수: {:.4f}\".format(roc_auc_score(Y_test2, xgb_pred2)))\n",
        "print(\"F1-Score: {:.4f}\".format(f1_score(xgb_pred2, Y_test2)))"
      ],
      "metadata": {
        "colab": {
          "base_uri": "https://localhost:8080/"
        },
        "id": "gHexolXmkkbO",
        "outputId": "27264c63-9557-44f6-c932-d8e43952adac"
      },
      "execution_count": null,
      "outputs": [
        {
          "output_type": "stream",
          "name": "stdout",
          "text": [
            "              precision    recall  f1-score   support\n",
            "\n",
            "           0       0.85      0.95      0.90      4703\n",
            "           1       0.69      0.37      0.48      1297\n",
            "\n",
            "    accuracy                           0.83      6000\n",
            "   macro avg       0.77      0.66      0.69      6000\n",
            "weighted avg       0.81      0.83      0.81      6000\n",
            "\n",
            "교차 검증 점수: 0.8245\n",
            "AUC 점수: 0.6610\n",
            "F1-Score: 0.4796\n"
          ]
        }
      ]
    },
    {
      "cell_type": "code",
      "source": [
        "# 오버샘플링 X, 변수 삭제 데이터\n",
        "print(classification_report(Y_test3, xgb_pred3))\n",
        "print(\"교차 검증 점수: {:.4f}\".format(cross_val_score(xgb3, X_test3, Y_test3, cv=kf).mean()))\n",
        "print(\"AUC 점수: {:.4f}\".format(roc_auc_score(Y_test3, xgb_pred3)))\n",
        "print(\"F1-Score: {:.4f}\".format(f1_score(xgb_pred3, Y_test3)))"
      ],
      "metadata": {
        "colab": {
          "base_uri": "https://localhost:8080/"
        },
        "id": "eXDDiN-UkmSW",
        "outputId": "781a2bf0-a328-474f-e914-603319f6e7db"
      },
      "execution_count": null,
      "outputs": [
        {
          "output_type": "stream",
          "name": "stdout",
          "text": [
            "              precision    recall  f1-score   support\n",
            "\n",
            "           0       0.84      0.96      0.90      4703\n",
            "           1       0.70      0.36      0.47      1297\n",
            "\n",
            "    accuracy                           0.83      6000\n",
            "   macro avg       0.77      0.66      0.68      6000\n",
            "weighted avg       0.81      0.83      0.80      6000\n",
            "\n",
            "교차 검증 점수: 0.8287\n",
            "AUC 점수: 0.6565\n",
            "F1-Score: 0.4709\n"
          ]
        }
      ]
    },
    {
      "cell_type": "code",
      "source": [
        "# 오버샘플링 X, 편차 변수 + 변수 삭제 데이터\n",
        "print(classification_report(Y_test4, xgb_pred4))\n",
        "print(\"교차 검증 점수: {:.4f}\".format(cross_val_score(xgb4, X_test4, Y_test4, cv=kf).mean()))\n",
        "print(\"AUC 점수: {:.4f}\".format(roc_auc_score(Y_test4, xgb_pred4)))\n",
        "print(\"F1-Score: {:.4f}\".format(f1_score(xgb_pred4, Y_test4)))"
      ],
      "metadata": {
        "colab": {
          "base_uri": "https://localhost:8080/"
        },
        "id": "yBsj_OnxkpZu",
        "outputId": "9a2d1018-b597-4a5e-f3ed-69af7c47b0c3"
      },
      "execution_count": null,
      "outputs": [
        {
          "output_type": "stream",
          "name": "stdout",
          "text": [
            "              precision    recall  f1-score   support\n",
            "\n",
            "           0       0.84      0.96      0.90      4703\n",
            "           1       0.70      0.36      0.48      1297\n",
            "\n",
            "    accuracy                           0.83      6000\n",
            "   macro avg       0.77      0.66      0.69      6000\n",
            "weighted avg       0.81      0.83      0.81      6000\n",
            "\n",
            "교차 검증 점수: 0.8265\n",
            "AUC 점수: 0.6592\n",
            "F1-Score: 0.4764\n"
          ]
        }
      ]
    },
    {
      "cell_type": "code",
      "source": [],
      "metadata": {
        "id": "6l0luIjhm7Qa"
      },
      "execution_count": null,
      "outputs": []
    }
  ]
}