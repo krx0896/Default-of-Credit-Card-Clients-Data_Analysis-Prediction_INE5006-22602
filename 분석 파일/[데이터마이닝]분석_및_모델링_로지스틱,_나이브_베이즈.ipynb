{
  "nbformat": 4,
  "nbformat_minor": 0,
  "metadata": {
    "colab": {
      "provenance": []
    },
    "kernelspec": {
      "name": "python3",
      "display_name": "Python 3"
    },
    "language_info": {
      "name": "python"
    }
  },
  "cells": [
    {
      "cell_type": "markdown",
      "source": [
        "# 패키지"
      ],
      "metadata": {
        "id": "6aqmXBRq3A9x"
      }
    },
    {
      "cell_type": "code",
      "source": [
        "!pip install shap\n",
        "\n",
        "import pandas as pd       \n",
        "import matplotlib as mat\n",
        "import matplotlib.pyplot as plt    \n",
        "import numpy as np\n",
        "import seaborn as sns\n",
        "%matplotlib inline\n",
        "\n",
        "from sklearn.model_selection import train_test_split\n",
        "from sklearn import metrics\n",
        "from sklearn.preprocessing import LabelEncoder\n",
        "\n",
        "from sklearn.ensemble import RandomForestClassifier\n",
        "!pip install catboost\n",
        "from catboost import CatBoostClassifier\n",
        "from catboost import Pool\n",
        "\n",
        "import shap\n",
        "\n",
        "import warnings\n",
        "warnings.filterwarnings('ignore')"
      ],
      "metadata": {
        "colab": {
          "base_uri": "https://localhost:8080/"
        },
        "id": "Ajg-IIIf3CzH",
        "outputId": "4b439a6d-d8c9-4fc9-f22e-1ec798c035ba"
      },
      "execution_count": null,
      "outputs": [
        {
          "output_type": "stream",
          "name": "stdout",
          "text": [
            "Looking in indexes: https://pypi.org/simple, https://us-python.pkg.dev/colab-wheels/public/simple/\n",
            "Collecting shap\n",
            "  Downloading shap-0.40.0-cp37-cp37m-manylinux2010_x86_64.whl (564 kB)\n",
            "\u001b[K     |████████████████████████████████| 564 kB 5.1 MB/s \n",
            "\u001b[?25hRequirement already satisfied: scipy in /usr/local/lib/python3.7/dist-packages (from shap) (1.4.1)\n",
            "Requirement already satisfied: tqdm>4.25.0 in /usr/local/lib/python3.7/dist-packages (from shap) (4.64.0)\n",
            "Requirement already satisfied: scikit-learn in /usr/local/lib/python3.7/dist-packages (from shap) (1.0.2)\n",
            "Requirement already satisfied: packaging>20.9 in /usr/local/lib/python3.7/dist-packages (from shap) (21.3)\n",
            "Requirement already satisfied: numba in /usr/local/lib/python3.7/dist-packages (from shap) (0.51.2)\n",
            "Requirement already satisfied: pandas in /usr/local/lib/python3.7/dist-packages (from shap) (1.3.5)\n",
            "Requirement already satisfied: cloudpickle in /usr/local/lib/python3.7/dist-packages (from shap) (1.3.0)\n",
            "Requirement already satisfied: numpy in /usr/local/lib/python3.7/dist-packages (from shap) (1.21.6)\n",
            "Collecting slicer==0.0.7\n",
            "  Downloading slicer-0.0.7-py3-none-any.whl (14 kB)\n",
            "Requirement already satisfied: pyparsing!=3.0.5,>=2.0.2 in /usr/local/lib/python3.7/dist-packages (from packaging>20.9->shap) (3.0.9)\n",
            "Requirement already satisfied: llvmlite<0.35,>=0.34.0.dev0 in /usr/local/lib/python3.7/dist-packages (from numba->shap) (0.34.0)\n",
            "Requirement already satisfied: setuptools in /usr/local/lib/python3.7/dist-packages (from numba->shap) (57.4.0)\n",
            "Requirement already satisfied: pytz>=2017.3 in /usr/local/lib/python3.7/dist-packages (from pandas->shap) (2022.1)\n",
            "Requirement already satisfied: python-dateutil>=2.7.3 in /usr/local/lib/python3.7/dist-packages (from pandas->shap) (2.8.2)\n",
            "Requirement already satisfied: six>=1.5 in /usr/local/lib/python3.7/dist-packages (from python-dateutil>=2.7.3->pandas->shap) (1.15.0)\n",
            "Requirement already satisfied: threadpoolctl>=2.0.0 in /usr/local/lib/python3.7/dist-packages (from scikit-learn->shap) (3.1.0)\n",
            "Requirement already satisfied: joblib>=0.11 in /usr/local/lib/python3.7/dist-packages (from scikit-learn->shap) (1.1.0)\n",
            "Installing collected packages: slicer, shap\n",
            "Successfully installed shap-0.40.0 slicer-0.0.7\n",
            "Looking in indexes: https://pypi.org/simple, https://us-python.pkg.dev/colab-wheels/public/simple/\n",
            "Requirement already satisfied: catboost in /usr/local/lib/python3.7/dist-packages (1.0.6)\n",
            "Requirement already satisfied: plotly in /usr/local/lib/python3.7/dist-packages (from catboost) (5.5.0)\n",
            "Requirement already satisfied: six in /usr/local/lib/python3.7/dist-packages (from catboost) (1.15.0)\n",
            "Requirement already satisfied: graphviz in /usr/local/lib/python3.7/dist-packages (from catboost) (0.10.1)\n",
            "Requirement already satisfied: scipy in /usr/local/lib/python3.7/dist-packages (from catboost) (1.4.1)\n",
            "Requirement already satisfied: numpy>=1.16.0 in /usr/local/lib/python3.7/dist-packages (from catboost) (1.21.6)\n",
            "Requirement already satisfied: matplotlib in /usr/local/lib/python3.7/dist-packages (from catboost) (3.2.2)\n",
            "Requirement already satisfied: pandas>=0.24.0 in /usr/local/lib/python3.7/dist-packages (from catboost) (1.3.5)\n",
            "Requirement already satisfied: python-dateutil>=2.7.3 in /usr/local/lib/python3.7/dist-packages (from pandas>=0.24.0->catboost) (2.8.2)\n",
            "Requirement already satisfied: pytz>=2017.3 in /usr/local/lib/python3.7/dist-packages (from pandas>=0.24.0->catboost) (2022.1)\n",
            "Requirement already satisfied: pyparsing!=2.0.4,!=2.1.2,!=2.1.6,>=2.0.1 in /usr/local/lib/python3.7/dist-packages (from matplotlib->catboost) (3.0.9)\n",
            "Requirement already satisfied: kiwisolver>=1.0.1 in /usr/local/lib/python3.7/dist-packages (from matplotlib->catboost) (1.4.2)\n",
            "Requirement already satisfied: cycler>=0.10 in /usr/local/lib/python3.7/dist-packages (from matplotlib->catboost) (0.11.0)\n",
            "Requirement already satisfied: typing-extensions in /usr/local/lib/python3.7/dist-packages (from kiwisolver>=1.0.1->matplotlib->catboost) (4.2.0)\n",
            "Requirement already satisfied: tenacity>=6.2.0 in /usr/local/lib/python3.7/dist-packages (from plotly->catboost) (8.0.1)\n"
          ]
        }
      ]
    },
    {
      "cell_type": "markdown",
      "source": [
        "# 데이터 불러오기"
      ],
      "metadata": {
        "id": "PODVCff50Dxw"
      }
    },
    {
      "cell_type": "code",
      "source": [
        "from google.colab import drive\n",
        "drive.mount('/content/drive')"
      ],
      "metadata": {
        "colab": {
          "base_uri": "https://localhost:8080/"
        },
        "id": "dj1UnLTRzylH",
        "outputId": "9e6c60ea-725e-46ae-96e3-4f035b202a54"
      },
      "execution_count": null,
      "outputs": [
        {
          "output_type": "stream",
          "name": "stdout",
          "text": [
            "Mounted at /content/drive\n"
          ]
        }
      ]
    },
    {
      "cell_type": "code",
      "source": [
        "import pandas as pd\n",
        "\n",
        "secom_data = pd.read_csv('/content/drive/MyDrive/꾀꼬리/default of credit card clients2.csv', sep = ',')\n",
        "data_or = secom_data.copy()\n",
        "secom_labels = pd.read_csv('/content/drive/MyDrive/꾀꼬리/card_Y.csv')\n",
        "label_or = secom_labels.copy()\n",
        "\n",
        "df1 = pd.read_csv('/content/drive/MyDrive/꾀꼬리/default of credit card clients.csv')\n",
        "df = df1.copy()\n",
        "\n",
        "data_dev = pd.read_csv('/content/drive/MyDrive/꾀꼬리/default of credit card clients_dev.csv', sep = ',')\n",
        "data_del = pd.read_csv('/content/drive/MyDrive/꾀꼬리/default of credit card clients_del.csv', sep = ',')\n",
        "data_dev_del = pd.read_csv('/content/drive/MyDrive/꾀꼬리/default of credit card clients_dev&del.csv', sep = ',')"
      ],
      "metadata": {
        "id": "dVkXIWCiz7yQ"
      },
      "execution_count": null,
      "outputs": []
    },
    {
      "cell_type": "code",
      "source": [
        "df"
      ],
      "metadata": {
        "colab": {
          "base_uri": "https://localhost:8080/",
          "height": 540
        },
        "id": "7ApLuD4wA2Fp",
        "outputId": "fb1d6094-a681-4c2e-e0e7-1959d0274480"
      },
      "execution_count": null,
      "outputs": [
        {
          "output_type": "execute_result",
          "data": {
            "text/plain": [
              "          ID  LIMIT_BAL  SEX  EDUCATION  MARRIAGE  AGE  PAY_0  PAY_2  PAY_3  \\\n",
              "0          1      20000    2          2         1   24      2      2     -1   \n",
              "1          2     120000    2          2         2   26     -1      2      0   \n",
              "2          3      90000    2          2         2   34      0      0      0   \n",
              "3          4      50000    2          2         1   37      0      0      0   \n",
              "4          5      50000    1          2         1   57     -1      0     -1   \n",
              "...      ...        ...  ...        ...       ...  ...    ...    ...    ...   \n",
              "29995  29996     220000    1          3         1   39      0      0      0   \n",
              "29996  29997     150000    1          3         2   43     -1     -1     -1   \n",
              "29997  29998      30000    1          2         2   37      4      3      2   \n",
              "29998  29999      80000    1          3         1   41      1     -1      0   \n",
              "29999  30000      50000    1          2         1   46      0      0      0   \n",
              "\n",
              "       PAY_4  ...  BILL_AMT4  BILL_AMT5  BILL_AMT6  PAY_AMT1  PAY_AMT2  \\\n",
              "0         -1  ...          0          0          0         0       689   \n",
              "1          0  ...       3272       3455       3261         0      1000   \n",
              "2          0  ...      14331      14948      15549      1518      1500   \n",
              "3          0  ...      28314      28959      29547      2000      2019   \n",
              "4          0  ...      20940      19146      19131      2000     36681   \n",
              "...      ...  ...        ...        ...        ...       ...       ...   \n",
              "29995      0  ...      88004      31237      15980      8500     20000   \n",
              "29996     -1  ...       8979       5190          0      1837      3526   \n",
              "29997     -1  ...      20878      20582      19357         0         0   \n",
              "29998      0  ...      52774      11855      48944     85900      3409   \n",
              "29999      0  ...      36535      32428      15313      2078      1800   \n",
              "\n",
              "       PAY_AMT3  PAY_AMT4  PAY_AMT5  PAY_AMT6  default payment next month  \n",
              "0             0         0         0         0                           1  \n",
              "1          1000      1000         0      2000                           1  \n",
              "2          1000      1000      1000      5000                           0  \n",
              "3          1200      1100      1069      1000                           0  \n",
              "4         10000      9000       689       679                           0  \n",
              "...         ...       ...       ...       ...                         ...  \n",
              "29995      5003      3047      5000      1000                           0  \n",
              "29996      8998       129         0         0                           0  \n",
              "29997     22000      4200      2000      3100                           1  \n",
              "29998      1178      1926     52964      1804                           1  \n",
              "29999      1430      1000      1000      1000                           1  \n",
              "\n",
              "[30000 rows x 25 columns]"
            ],
            "text/html": [
              "\n",
              "  <div id=\"df-e0c3d5d4-a3bd-4b9b-9b88-6b601bbca2b1\">\n",
              "    <div class=\"colab-df-container\">\n",
              "      <div>\n",
              "<style scoped>\n",
              "    .dataframe tbody tr th:only-of-type {\n",
              "        vertical-align: middle;\n",
              "    }\n",
              "\n",
              "    .dataframe tbody tr th {\n",
              "        vertical-align: top;\n",
              "    }\n",
              "\n",
              "    .dataframe thead th {\n",
              "        text-align: right;\n",
              "    }\n",
              "</style>\n",
              "<table border=\"1\" class=\"dataframe\">\n",
              "  <thead>\n",
              "    <tr style=\"text-align: right;\">\n",
              "      <th></th>\n",
              "      <th>ID</th>\n",
              "      <th>LIMIT_BAL</th>\n",
              "      <th>SEX</th>\n",
              "      <th>EDUCATION</th>\n",
              "      <th>MARRIAGE</th>\n",
              "      <th>AGE</th>\n",
              "      <th>PAY_0</th>\n",
              "      <th>PAY_2</th>\n",
              "      <th>PAY_3</th>\n",
              "      <th>PAY_4</th>\n",
              "      <th>...</th>\n",
              "      <th>BILL_AMT4</th>\n",
              "      <th>BILL_AMT5</th>\n",
              "      <th>BILL_AMT6</th>\n",
              "      <th>PAY_AMT1</th>\n",
              "      <th>PAY_AMT2</th>\n",
              "      <th>PAY_AMT3</th>\n",
              "      <th>PAY_AMT4</th>\n",
              "      <th>PAY_AMT5</th>\n",
              "      <th>PAY_AMT6</th>\n",
              "      <th>default payment next month</th>\n",
              "    </tr>\n",
              "  </thead>\n",
              "  <tbody>\n",
              "    <tr>\n",
              "      <th>0</th>\n",
              "      <td>1</td>\n",
              "      <td>20000</td>\n",
              "      <td>2</td>\n",
              "      <td>2</td>\n",
              "      <td>1</td>\n",
              "      <td>24</td>\n",
              "      <td>2</td>\n",
              "      <td>2</td>\n",
              "      <td>-1</td>\n",
              "      <td>-1</td>\n",
              "      <td>...</td>\n",
              "      <td>0</td>\n",
              "      <td>0</td>\n",
              "      <td>0</td>\n",
              "      <td>0</td>\n",
              "      <td>689</td>\n",
              "      <td>0</td>\n",
              "      <td>0</td>\n",
              "      <td>0</td>\n",
              "      <td>0</td>\n",
              "      <td>1</td>\n",
              "    </tr>\n",
              "    <tr>\n",
              "      <th>1</th>\n",
              "      <td>2</td>\n",
              "      <td>120000</td>\n",
              "      <td>2</td>\n",
              "      <td>2</td>\n",
              "      <td>2</td>\n",
              "      <td>26</td>\n",
              "      <td>-1</td>\n",
              "      <td>2</td>\n",
              "      <td>0</td>\n",
              "      <td>0</td>\n",
              "      <td>...</td>\n",
              "      <td>3272</td>\n",
              "      <td>3455</td>\n",
              "      <td>3261</td>\n",
              "      <td>0</td>\n",
              "      <td>1000</td>\n",
              "      <td>1000</td>\n",
              "      <td>1000</td>\n",
              "      <td>0</td>\n",
              "      <td>2000</td>\n",
              "      <td>1</td>\n",
              "    </tr>\n",
              "    <tr>\n",
              "      <th>2</th>\n",
              "      <td>3</td>\n",
              "      <td>90000</td>\n",
              "      <td>2</td>\n",
              "      <td>2</td>\n",
              "      <td>2</td>\n",
              "      <td>34</td>\n",
              "      <td>0</td>\n",
              "      <td>0</td>\n",
              "      <td>0</td>\n",
              "      <td>0</td>\n",
              "      <td>...</td>\n",
              "      <td>14331</td>\n",
              "      <td>14948</td>\n",
              "      <td>15549</td>\n",
              "      <td>1518</td>\n",
              "      <td>1500</td>\n",
              "      <td>1000</td>\n",
              "      <td>1000</td>\n",
              "      <td>1000</td>\n",
              "      <td>5000</td>\n",
              "      <td>0</td>\n",
              "    </tr>\n",
              "    <tr>\n",
              "      <th>3</th>\n",
              "      <td>4</td>\n",
              "      <td>50000</td>\n",
              "      <td>2</td>\n",
              "      <td>2</td>\n",
              "      <td>1</td>\n",
              "      <td>37</td>\n",
              "      <td>0</td>\n",
              "      <td>0</td>\n",
              "      <td>0</td>\n",
              "      <td>0</td>\n",
              "      <td>...</td>\n",
              "      <td>28314</td>\n",
              "      <td>28959</td>\n",
              "      <td>29547</td>\n",
              "      <td>2000</td>\n",
              "      <td>2019</td>\n",
              "      <td>1200</td>\n",
              "      <td>1100</td>\n",
              "      <td>1069</td>\n",
              "      <td>1000</td>\n",
              "      <td>0</td>\n",
              "    </tr>\n",
              "    <tr>\n",
              "      <th>4</th>\n",
              "      <td>5</td>\n",
              "      <td>50000</td>\n",
              "      <td>1</td>\n",
              "      <td>2</td>\n",
              "      <td>1</td>\n",
              "      <td>57</td>\n",
              "      <td>-1</td>\n",
              "      <td>0</td>\n",
              "      <td>-1</td>\n",
              "      <td>0</td>\n",
              "      <td>...</td>\n",
              "      <td>20940</td>\n",
              "      <td>19146</td>\n",
              "      <td>19131</td>\n",
              "      <td>2000</td>\n",
              "      <td>36681</td>\n",
              "      <td>10000</td>\n",
              "      <td>9000</td>\n",
              "      <td>689</td>\n",
              "      <td>679</td>\n",
              "      <td>0</td>\n",
              "    </tr>\n",
              "    <tr>\n",
              "      <th>...</th>\n",
              "      <td>...</td>\n",
              "      <td>...</td>\n",
              "      <td>...</td>\n",
              "      <td>...</td>\n",
              "      <td>...</td>\n",
              "      <td>...</td>\n",
              "      <td>...</td>\n",
              "      <td>...</td>\n",
              "      <td>...</td>\n",
              "      <td>...</td>\n",
              "      <td>...</td>\n",
              "      <td>...</td>\n",
              "      <td>...</td>\n",
              "      <td>...</td>\n",
              "      <td>...</td>\n",
              "      <td>...</td>\n",
              "      <td>...</td>\n",
              "      <td>...</td>\n",
              "      <td>...</td>\n",
              "      <td>...</td>\n",
              "      <td>...</td>\n",
              "    </tr>\n",
              "    <tr>\n",
              "      <th>29995</th>\n",
              "      <td>29996</td>\n",
              "      <td>220000</td>\n",
              "      <td>1</td>\n",
              "      <td>3</td>\n",
              "      <td>1</td>\n",
              "      <td>39</td>\n",
              "      <td>0</td>\n",
              "      <td>0</td>\n",
              "      <td>0</td>\n",
              "      <td>0</td>\n",
              "      <td>...</td>\n",
              "      <td>88004</td>\n",
              "      <td>31237</td>\n",
              "      <td>15980</td>\n",
              "      <td>8500</td>\n",
              "      <td>20000</td>\n",
              "      <td>5003</td>\n",
              "      <td>3047</td>\n",
              "      <td>5000</td>\n",
              "      <td>1000</td>\n",
              "      <td>0</td>\n",
              "    </tr>\n",
              "    <tr>\n",
              "      <th>29996</th>\n",
              "      <td>29997</td>\n",
              "      <td>150000</td>\n",
              "      <td>1</td>\n",
              "      <td>3</td>\n",
              "      <td>2</td>\n",
              "      <td>43</td>\n",
              "      <td>-1</td>\n",
              "      <td>-1</td>\n",
              "      <td>-1</td>\n",
              "      <td>-1</td>\n",
              "      <td>...</td>\n",
              "      <td>8979</td>\n",
              "      <td>5190</td>\n",
              "      <td>0</td>\n",
              "      <td>1837</td>\n",
              "      <td>3526</td>\n",
              "      <td>8998</td>\n",
              "      <td>129</td>\n",
              "      <td>0</td>\n",
              "      <td>0</td>\n",
              "      <td>0</td>\n",
              "    </tr>\n",
              "    <tr>\n",
              "      <th>29997</th>\n",
              "      <td>29998</td>\n",
              "      <td>30000</td>\n",
              "      <td>1</td>\n",
              "      <td>2</td>\n",
              "      <td>2</td>\n",
              "      <td>37</td>\n",
              "      <td>4</td>\n",
              "      <td>3</td>\n",
              "      <td>2</td>\n",
              "      <td>-1</td>\n",
              "      <td>...</td>\n",
              "      <td>20878</td>\n",
              "      <td>20582</td>\n",
              "      <td>19357</td>\n",
              "      <td>0</td>\n",
              "      <td>0</td>\n",
              "      <td>22000</td>\n",
              "      <td>4200</td>\n",
              "      <td>2000</td>\n",
              "      <td>3100</td>\n",
              "      <td>1</td>\n",
              "    </tr>\n",
              "    <tr>\n",
              "      <th>29998</th>\n",
              "      <td>29999</td>\n",
              "      <td>80000</td>\n",
              "      <td>1</td>\n",
              "      <td>3</td>\n",
              "      <td>1</td>\n",
              "      <td>41</td>\n",
              "      <td>1</td>\n",
              "      <td>-1</td>\n",
              "      <td>0</td>\n",
              "      <td>0</td>\n",
              "      <td>...</td>\n",
              "      <td>52774</td>\n",
              "      <td>11855</td>\n",
              "      <td>48944</td>\n",
              "      <td>85900</td>\n",
              "      <td>3409</td>\n",
              "      <td>1178</td>\n",
              "      <td>1926</td>\n",
              "      <td>52964</td>\n",
              "      <td>1804</td>\n",
              "      <td>1</td>\n",
              "    </tr>\n",
              "    <tr>\n",
              "      <th>29999</th>\n",
              "      <td>30000</td>\n",
              "      <td>50000</td>\n",
              "      <td>1</td>\n",
              "      <td>2</td>\n",
              "      <td>1</td>\n",
              "      <td>46</td>\n",
              "      <td>0</td>\n",
              "      <td>0</td>\n",
              "      <td>0</td>\n",
              "      <td>0</td>\n",
              "      <td>...</td>\n",
              "      <td>36535</td>\n",
              "      <td>32428</td>\n",
              "      <td>15313</td>\n",
              "      <td>2078</td>\n",
              "      <td>1800</td>\n",
              "      <td>1430</td>\n",
              "      <td>1000</td>\n",
              "      <td>1000</td>\n",
              "      <td>1000</td>\n",
              "      <td>1</td>\n",
              "    </tr>\n",
              "  </tbody>\n",
              "</table>\n",
              "<p>30000 rows × 25 columns</p>\n",
              "</div>\n",
              "      <button class=\"colab-df-convert\" onclick=\"convertToInteractive('df-e0c3d5d4-a3bd-4b9b-9b88-6b601bbca2b1')\"\n",
              "              title=\"Convert this dataframe to an interactive table.\"\n",
              "              style=\"display:none;\">\n",
              "        \n",
              "  <svg xmlns=\"http://www.w3.org/2000/svg\" height=\"24px\"viewBox=\"0 0 24 24\"\n",
              "       width=\"24px\">\n",
              "    <path d=\"M0 0h24v24H0V0z\" fill=\"none\"/>\n",
              "    <path d=\"M18.56 5.44l.94 2.06.94-2.06 2.06-.94-2.06-.94-.94-2.06-.94 2.06-2.06.94zm-11 1L8.5 8.5l.94-2.06 2.06-.94-2.06-.94L8.5 2.5l-.94 2.06-2.06.94zm10 10l.94 2.06.94-2.06 2.06-.94-2.06-.94-.94-2.06-.94 2.06-2.06.94z\"/><path d=\"M17.41 7.96l-1.37-1.37c-.4-.4-.92-.59-1.43-.59-.52 0-1.04.2-1.43.59L10.3 9.45l-7.72 7.72c-.78.78-.78 2.05 0 2.83L4 21.41c.39.39.9.59 1.41.59.51 0 1.02-.2 1.41-.59l7.78-7.78 2.81-2.81c.8-.78.8-2.07 0-2.86zM5.41 20L4 18.59l7.72-7.72 1.47 1.35L5.41 20z\"/>\n",
              "  </svg>\n",
              "      </button>\n",
              "      \n",
              "  <style>\n",
              "    .colab-df-container {\n",
              "      display:flex;\n",
              "      flex-wrap:wrap;\n",
              "      gap: 12px;\n",
              "    }\n",
              "\n",
              "    .colab-df-convert {\n",
              "      background-color: #E8F0FE;\n",
              "      border: none;\n",
              "      border-radius: 50%;\n",
              "      cursor: pointer;\n",
              "      display: none;\n",
              "      fill: #1967D2;\n",
              "      height: 32px;\n",
              "      padding: 0 0 0 0;\n",
              "      width: 32px;\n",
              "    }\n",
              "\n",
              "    .colab-df-convert:hover {\n",
              "      background-color: #E2EBFA;\n",
              "      box-shadow: 0px 1px 2px rgba(60, 64, 67, 0.3), 0px 1px 3px 1px rgba(60, 64, 67, 0.15);\n",
              "      fill: #174EA6;\n",
              "    }\n",
              "\n",
              "    [theme=dark] .colab-df-convert {\n",
              "      background-color: #3B4455;\n",
              "      fill: #D2E3FC;\n",
              "    }\n",
              "\n",
              "    [theme=dark] .colab-df-convert:hover {\n",
              "      background-color: #434B5C;\n",
              "      box-shadow: 0px 1px 3px 1px rgba(0, 0, 0, 0.15);\n",
              "      filter: drop-shadow(0px 1px 2px rgba(0, 0, 0, 0.3));\n",
              "      fill: #FFFFFF;\n",
              "    }\n",
              "  </style>\n",
              "\n",
              "      <script>\n",
              "        const buttonEl =\n",
              "          document.querySelector('#df-e0c3d5d4-a3bd-4b9b-9b88-6b601bbca2b1 button.colab-df-convert');\n",
              "        buttonEl.style.display =\n",
              "          google.colab.kernel.accessAllowed ? 'block' : 'none';\n",
              "\n",
              "        async function convertToInteractive(key) {\n",
              "          const element = document.querySelector('#df-e0c3d5d4-a3bd-4b9b-9b88-6b601bbca2b1');\n",
              "          const dataTable =\n",
              "            await google.colab.kernel.invokeFunction('convertToInteractive',\n",
              "                                                     [key], {});\n",
              "          if (!dataTable) return;\n",
              "\n",
              "          const docLinkHtml = 'Like what you see? Visit the ' +\n",
              "            '<a target=\"_blank\" href=https://colab.research.google.com/notebooks/data_table.ipynb>data table notebook</a>'\n",
              "            + ' to learn more about interactive tables.';\n",
              "          element.innerHTML = '';\n",
              "          dataTable['output_type'] = 'display_data';\n",
              "          await google.colab.output.renderOutput(dataTable, element);\n",
              "          const docLink = document.createElement('div');\n",
              "          docLink.innerHTML = docLinkHtml;\n",
              "          element.appendChild(docLink);\n",
              "        }\n",
              "      </script>\n",
              "    </div>\n",
              "  </div>\n",
              "  "
            ]
          },
          "metadata": {},
          "execution_count": 50
        }
      ]
    },
    {
      "cell_type": "markdown",
      "source": [
        "# 데이터 시각화"
      ],
      "metadata": {
        "id": "JCZTmcGP2oHa"
      }
    },
    {
      "cell_type": "code",
      "source": [
        "df.rename(columns = {'PAY_0':'PAY_1', 'default payment next month':'Default'}, inplace = True)\n",
        "\n",
        "plt.figure(figsize=(6, 4))\n",
        "\n",
        "ax = sns.countplot(x='Default', data=df, palette=\"Blues\")\n",
        "\n",
        "plt.xlabel(\"Default\", fontsize= 12)\n",
        "plt.ylabel(\"# of Clients\", fontsize= 12)\n",
        "plt.ylim(0,30000)\n",
        "plt.xticks([0,1], ['No', 'Yes'], fontsize = 11)\n",
        "\n",
        "for p in ax.patches:\n",
        "    ax.annotate((p.get_height()), (p.get_x()+0.32, p.get_height()+1000))\n",
        "    \n",
        "plt.show()"
      ],
      "metadata": {
        "colab": {
          "base_uri": "https://localhost:8080/",
          "height": 286
        },
        "id": "Rjua3uD52rft",
        "outputId": "cb0983e9-6750-48fa-fb99-beb66e58de28"
      },
      "execution_count": null,
      "outputs": [
        {
          "output_type": "display_data",
          "data": {
            "text/plain": [
              "<Figure size 432x288 with 1 Axes>"
            ],
            "image/png": "[encoded data removed]"
          },
          "metadata": {
            "needs_background": "light"
          }
        }
      ]
    },
    {
      "cell_type": "code",
      "source": [
        "plt.figure(figsize=(7,5))\n",
        "\n",
        "df['Default'].value_counts().plot(kind='pie',labels = ['',''], autopct='%1.1f%%', colors = ['royalblue','red'], explode = [0,0.05], textprops = {\"fontsize\":15})\n",
        "\n",
        "plt.legend(labels=['No Default', 'Default'])\n",
        "plt.show()"
      ],
      "metadata": {
        "colab": {
          "base_uri": "https://localhost:8080/",
          "height": 303
        },
        "id": "dJct6N9k6UqT",
        "outputId": "7271fe48-95ca-4100-9661-1ff1fe60353a"
      },
      "execution_count": null,
      "outputs": [
        {
          "output_type": "display_data",
          "data": {
            "text/plain": [
              "<Figure size 504x360 with 1 Axes>"
            ],
            "image/png": "[encoded data removed]"
          },
          "metadata": {}
        }
      ]
    },
    {
      "cell_type": "code",
      "source": [
        "plt.figure(figsize=(12,4))\n",
        "\n",
        "ax = sns.countplot(data = df, x = 'SEX', hue=\"Default\", palette = 'Blues')\n",
        "\n",
        "plt.xlabel(\"Sex\", fontsize= 12)\n",
        "plt.ylabel(\"# of Clients\", fontsize= 12)\n",
        "plt.ylim(0,20000)\n",
        "plt.xticks([0,1],['Male', 'Female'], fontsize = 11)\n",
        "\n",
        "for p in ax.patches:\n",
        "    ax.annotate((p.get_height()), (p.get_x()+0.16, p.get_height()+1000))\n",
        "\n",
        "plt.show()"
      ],
      "metadata": {
        "colab": {
          "base_uri": "https://localhost:8080/",
          "height": 286
        },
        "id": "jyFz8oFJ6567",
        "outputId": "e023b667-99ef-4991-bbf5-52f436830bc6"
      },
      "execution_count": null,
      "outputs": [
        {
          "output_type": "display_data",
          "data": {
            "text/plain": [
              "<Figure size 864x288 with 1 Axes>"
            ],
            "image/png": "[encoded data removed]"
          },
          "metadata": {
            "needs_background": "light"
          }
        }
      ]
    },
    {
      "cell_type": "code",
      "source": [
        "# 최적의 k값 찾기 -> k = 3 일때\n",
        "import matplotlib.pyplot as plt\n",
        "k_list = range(1,101)\n",
        "accuracies = []\n",
        "for k in k_list:\n",
        "  classifier = KNeighborsClassifier(n_neighbors = k)\n",
        "  classifier.fit(data_over, label_over)\n",
        "  accuracies.append(classifier.score(X_test, Y_test))\n",
        "plt.plot(k_list, accuracies)\n",
        "plt.xlabel(\"k\")\n",
        "plt.ylabel(\"Validation Accuracy\")\n",
        "plt.title(\"Breast Cancer Classifier Accuracy\")\n",
        "plt.show()"
      ],
      "metadata": {
        "colab": {
          "base_uri": "https://localhost:8080/",
          "height": 295
        },
        "id": "CSTbnVTcSHGW",
        "outputId": "b2a4ea4e-ff9e-4888-f9ed-ecf2e0c3f9ba"
      },
      "execution_count": null,
      "outputs": [
        {
          "output_type": "display_data",
          "data": {
            "text/plain": [
              "<Figure size 432x288 with 1 Axes>"
            ],
            "image/png": "[encoded data removed]"
          },
          "metadata": {
            "needs_background": "light"
          }
        }
      ]
    },
    {
      "cell_type": "markdown",
      "source": [
        "# 데이터 정규화"
      ],
      "metadata": {
        "id": "DVSZDVvy0zim"
      }
    },
    {
      "cell_type": "code",
      "source": [
        "from sklearn.preprocessing import StandardScaler\n",
        "\n",
        "std_scaler = StandardScaler()\n",
        "# 오리지널 데이터\n",
        "std_scaler.fit(data_or)\n",
        "std = std_scaler.transform(data_or)\n",
        "data_or_sk = pd.DataFrame(std, columns = data_or.columns, index = list(data_or.index.values))\n",
        "# dev 데이터\n",
        "std_scaler.fit(data_dev)\n",
        "std = std_scaler.transform(data_dev)\n",
        "data_dev_sk = pd.DataFrame(std, columns = data_dev.columns, index = list(data_dev.index.values))\n",
        "# del 데이터\n",
        "std_scaler.fit(data_del)\n",
        "std = std_scaler.transform(data_del)\n",
        "data_del_sk = pd.DataFrame(std, columns = data_del.columns, index = list(data_del.index.values))\n",
        "# dev+del 데이터\n",
        "std_scaler.fit(data_dev_del)\n",
        "std = std_scaler.transform(data_dev_del)\n",
        "data_dev_del_sk = pd.DataFrame(std, columns = data_dev_del.columns, index = list(data_dev_del.index.values))"
      ],
      "metadata": {
        "id": "cNlTT2290qt5"
      },
      "execution_count": null,
      "outputs": []
    },
    {
      "cell_type": "markdown",
      "source": [
        "# 데이터 훈련셋과 검정셋 나누기"
      ],
      "metadata": {
        "id": "R2Zj3zuJ3S5n"
      }
    },
    {
      "cell_type": "code",
      "source": [
        "from sklearn.model_selection import train_test_split\n",
        "\n",
        "X_train1, X_test1, Y_train1, Y_test1 = train_test_split(data_or_sk, label_or, test_size = 0.2, random_state = 0)\n",
        "X_train2, X_test2, Y_train2, Y_test2 = train_test_split(data_dev_sk, label_or, test_size = 0.2, random_state = 0)\n",
        "X_train3, X_test3, Y_train3, Y_test3 = train_test_split(data_del_sk, label_or, test_size = 0.2, random_state = 0)\n",
        "X_train4, X_test4, Y_train4, Y_test4 = train_test_split(data_dev_del_sk, label_or, test_size = 0.2, random_state = 0)"
      ],
      "metadata": {
        "id": "qRq4tLiS2fg2"
      },
      "execution_count": null,
      "outputs": []
    },
    {
      "cell_type": "markdown",
      "source": [
        "# 데이터 오버샘플링과 아닌거로 나누기"
      ],
      "metadata": {
        "id": "Ct9CaNFY2wXv"
      }
    },
    {
      "cell_type": "code",
      "source": [
        "from imblearn.over_sampling import SMOTE\n",
        "\n",
        "# smote = 0, original data\n",
        "smote1 = SMOTE(random_state = 42)\n",
        "data_over1, label_over1 = smote1.fit_resample(X_train1, Y_train1)\n",
        "label_over1.value_counts()\n",
        "\n",
        "# smote = 0, dev data\n",
        "smote2 = SMOTE(random_state = 42)\n",
        "data_over2, label_over2 = smote2.fit_resample(X_train2, Y_train2)\n",
        "label_over2.value_counts()\n",
        "\n",
        "# smote = 0, del data\n",
        "smote3 = SMOTE(random_state = 42)\n",
        "data_over3, label_over3 = smote3.fit_resample(X_train3, Y_train3)\n",
        "label_over3.value_counts()\n",
        "\n",
        "# smote = 0, dev&del data\n",
        "smote4 = SMOTE(random_state = 42)\n",
        "data_over4, label_over4 = smote4.fit_resample(X_train4, Y_train4)\n",
        "label_over4.value_counts()\n",
        "\n",
        "# smote 안한거, original data\n",
        "# smote 안한거, dev data\n",
        "# smote 안한거, del data\n",
        "# smote 안한거, dev&del data"
      ],
      "metadata": {
        "colab": {
          "base_uri": "https://localhost:8080/"
        },
        "id": "6YVtY_Gc3M-I",
        "outputId": "016d71b7-be8c-4b45-f939-c3129ade50bc"
      },
      "execution_count": null,
      "outputs": [
        {
          "output_type": "execute_result",
          "data": {
            "text/plain": [
              "default payment next month\n",
              "0                             18661\n",
              "1                             18661\n",
              "dtype: int64"
            ]
          },
          "metadata": {},
          "execution_count": 46
        }
      ]
    },
    {
      "cell_type": "markdown",
      "source": [
        "# 패키지"
      ],
      "metadata": {
        "id": "Slf6ZBSP4bt3"
      }
    },
    {
      "cell_type": "code",
      "source": [
        "import warnings\n",
        "warnings.filterwarnings('ignore')\n",
        "\n",
        "import pandas as pd\n",
        "import numpy as np\n",
        "import matplotlib.pyplot as plt\n",
        "import seaborn as sns"
      ],
      "metadata": {
        "id": "4be6razg63_L"
      },
      "execution_count": null,
      "outputs": []
    },
    {
      "cell_type": "markdown",
      "source": [
        "# 로지스틱 회귀"
      ],
      "metadata": {
        "id": "MovYmEFO6aOC"
      }
    },
    {
      "cell_type": "code",
      "source": [
        "from sklearn.linear_model import LogisticRegression\n",
        "from sklearn.metrics import confusion_matrix, classification_report, roc_auc_score, f1_score\n",
        "from sklearn.model_selection import cross_val_score, KFold\n",
        "\n",
        "LR1 = LogisticRegression()\n",
        "LR1.fit(data_over1, label_over1)\n",
        "pred_data = LR1.predict(X_test1)\n",
        "\n",
        "kf = KFold(n_splits=10)\n",
        "cm1 = pd.DataFrame(confusion_matrix(Y_test1, pred_data))\n",
        "sns.heatmap(cm1, annot=True, cmap='Blues')\n",
        "print(classification_report(Y_test1, pred_data))\n",
        "print(\"교차 검증 점수: {:.4f}\".format(cross_val_score(LR1, X_test1, Y_test1, cv=kf).mean()))\n",
        "print(\"AUC 점수: {:.4f}\".format(roc_auc_score(Y_test1, pred_data)))\n",
        "print(\"F1-Score: {:.4f}\".format(f1_score(pred_data, Y_test1)))"
      ],
      "metadata": {
        "colab": {
          "base_uri": "https://localhost:8080/",
          "height": 485
        },
        "id": "mujvwayW6gX2",
        "outputId": "56f5d297-be7a-44bf-d20e-456f5ff631f1"
      },
      "execution_count": null,
      "outputs": [
        {
          "output_type": "stream",
          "name": "stdout",
          "text": [
            "              precision    recall  f1-score   support\n",
            "\n",
            "           0       0.87      0.84      0.86      4703\n",
            "           1       0.49      0.56      0.52      1297\n",
            "\n",
            "    accuracy                           0.78      6000\n",
            "   macro avg       0.68      0.70      0.69      6000\n",
            "weighted avg       0.79      0.78      0.78      6000\n",
            "\n",
            "교차 검증 점수: 0.8275\n",
            "AUC 점수: 0.7006\n",
            "F1-Score: 0.5239\n"
          ]
        },
        {
          "output_type": "display_data",
          "data": {
            "text/plain": [
              "<Figure size 432x288 with 2 Axes>"
            ],
            "image/png": "[encoded data removed]"
          },
          "metadata": {
            "needs_background": "light"
          }
        }
      ]
    },
    {
      "cell_type": "code",
      "source": [
        "from sklearn.linear_model import LogisticRegression\n",
        "from sklearn.metrics import confusion_matrix, classification_report, roc_auc_score, f1_score\n",
        "from sklearn.model_selection import cross_val_score, KFold\n",
        "\n",
        "LR2 = LogisticRegression()\n",
        "LR2.fit(data_over2, label_over2)\n",
        "pred_data = LR2.predict(X_test2)\n",
        "\n",
        "kf = KFold(n_splits=10)\n",
        "cm2 = pd.DataFrame(confusion_matrix(Y_test2, pred_data))\n",
        "sns.heatmap(cm2, annot=True, cmap='Blues')\n",
        "print(classification_report(Y_test2, pred_data))\n",
        "print(\"교차 검증 점수: {:.4f}\".format(cross_val_score(LR2, X_test2, Y_test2, cv=kf).mean()))\n",
        "print(\"AUC 점수: {:.4f}\".format(roc_auc_score(Y_test2, pred_data)))\n",
        "print(\"F1-Score: {:.4f}\".format(f1_score(pred_data, Y_test2)))"
      ],
      "metadata": {
        "colab": {
          "base_uri": "https://localhost:8080/",
          "height": 485
        },
        "id": "A8pnsQas7xcn",
        "outputId": "1aa07e0f-9acf-4186-bbb7-930c82caa13d"
      },
      "execution_count": null,
      "outputs": [
        {
          "output_type": "stream",
          "name": "stdout",
          "text": [
            "              precision    recall  f1-score   support\n",
            "\n",
            "           0       0.87      0.84      0.85      4703\n",
            "           1       0.49      0.57      0.52      1297\n",
            "\n",
            "    accuracy                           0.78      6000\n",
            "   macro avg       0.68      0.70      0.69      6000\n",
            "weighted avg       0.79      0.78      0.78      6000\n",
            "\n",
            "교차 검증 점수: 0.8275\n",
            "AUC 점수: 0.7007\n",
            "F1-Score: 0.5236\n"
          ]
        },
        {
          "output_type": "display_data",
          "data": {
            "text/plain": [
              "<Figure size 432x288 with 2 Axes>"
            ],
            "image/png": "[encoded data removed]"
          },
          "metadata": {
            "needs_background": "light"
          }
        }
      ]
    },
    {
      "cell_type": "code",
      "source": [
        "from sklearn.linear_model import LogisticRegression\n",
        "from sklearn.metrics import confusion_matrix, classification_report, roc_auc_score, f1_score\n",
        "from sklearn.model_selection import cross_val_score, KFold\n",
        "\n",
        "LR3 = LogisticRegression()\n",
        "LR3.fit(data_over3, label_over3)\n",
        "pred_data = LR3.predict(X_test3)\n",
        "\n",
        "kf = KFold(n_splits=10)\n",
        "cm3 = pd.DataFrame(confusion_matrix(Y_test3, pred_data))\n",
        "sns.heatmap(cm3, annot=True, cmap='Blues')\n",
        "print(classification_report(Y_test3, pred_data))\n",
        "print(\"교차 검증 점수: {:.4f}\".format(cross_val_score(LR3, X_test3, Y_test3, cv=kf).mean()))\n",
        "print(\"AUC 점수: {:.4f}\".format(roc_auc_score(Y_test3, pred_data)))\n",
        "print(\"F1-Score: {:.4f}\".format(f1_score(pred_data, Y_test3)))"
      ],
      "metadata": {
        "colab": {
          "base_uri": "https://localhost:8080/",
          "height": 485
        },
        "id": "QLk9gvar7yGS",
        "outputId": "eca2e2f4-cb9b-4f92-9fc9-c29b41962460"
      },
      "execution_count": null,
      "outputs": [
        {
          "output_type": "stream",
          "name": "stdout",
          "text": [
            "              precision    recall  f1-score   support\n",
            "\n",
            "           0       0.87      0.84      0.85      4703\n",
            "           1       0.48      0.56      0.52      1297\n",
            "\n",
            "    accuracy                           0.77      6000\n",
            "   macro avg       0.68      0.70      0.68      6000\n",
            "weighted avg       0.79      0.77      0.78      6000\n",
            "\n",
            "교차 검증 점수: 0.8275\n",
            "AUC 점수: 0.6956\n",
            "F1-Score: 0.5163\n"
          ]
        },
        {
          "output_type": "display_data",
          "data": {
            "text/plain": [
              "<Figure size 432x288 with 2 Axes>"
            ],
            "image/png": "[encoded data removed]"
          },
          "metadata": {
            "needs_background": "light"
          }
        }
      ]
    },
    {
      "cell_type": "code",
      "source": [
        "from sklearn.linear_model import LogisticRegression\n",
        "from sklearn.metrics import confusion_matrix, classification_report, roc_auc_score, f1_score\n",
        "from sklearn.model_selection import cross_val_score, KFold\n",
        "\n",
        "LR4 = LogisticRegression()\n",
        "LR4.fit(data_over4, label_over4)\n",
        "pred_data = LR4.predict(X_test4)\n",
        "\n",
        "kf = KFold(n_splits=10)\n",
        "cm4 = pd.DataFrame(confusion_matrix(Y_test4, pred_data))\n",
        "sns.heatmap(cm4, annot=True, cmap='Blues')\n",
        "print(classification_report(Y_test4, pred_data))\n",
        "print(\"교차 검증 점수: {:.4f}\".format(cross_val_score(LR4, X_test4, Y_test4, cv=kf).mean()))\n",
        "print(\"AUC 점수: {:.4f}\".format(roc_auc_score(Y_test4, pred_data)))\n",
        "print(\"F1-Score: {:.4f}\".format(f1_score(pred_data, Y_test4)))"
      ],
      "metadata": {
        "colab": {
          "base_uri": "https://localhost:8080/",
          "height": 485
        },
        "id": "4xnyu4Cv7yV3",
        "outputId": "67906f10-4550-4c67-ebb1-d3b530179964"
      },
      "execution_count": null,
      "outputs": [
        {
          "output_type": "stream",
          "name": "stdout",
          "text": [
            "              precision    recall  f1-score   support\n",
            "\n",
            "           0       0.87      0.83      0.85      4703\n",
            "           1       0.48      0.56      0.52      1297\n",
            "\n",
            "    accuracy                           0.78      6000\n",
            "   macro avg       0.68      0.70      0.69      6000\n",
            "weighted avg       0.79      0.78      0.78      6000\n",
            "\n",
            "교차 검증 점수: 0.8273\n",
            "AUC 점수: 0.6969\n",
            "F1-Score: 0.5180\n"
          ]
        },
        {
          "output_type": "display_data",
          "data": {
            "text/plain": [
              "<Figure size 432x288 with 2 Axes>"
            ],
            "image/png": "[encoded data removed]"
          },
          "metadata": {
            "needs_background": "light"
          }
        }
      ]
    },
    {
      "cell_type": "code",
      "source": [
        "from sklearn.linear_model import LogisticRegression\n",
        "from sklearn.metrics import confusion_matrix, classification_report, roc_auc_score, f1_score\n",
        "from sklearn.model_selection import cross_val_score, KFold\n",
        "\n",
        "LR5 = LogisticRegression()\n",
        "LR5.fit(data_or, label_or)\n",
        "pred_data = LR5.predict(X_test1)\n",
        "\n",
        "kf = KFold(n_splits=10)\n",
        "cm1 = pd.DataFrame(confusion_matrix(Y_test1, pred_data))\n",
        "sns.heatmap(cm1, annot=True, cmap='Blues')\n",
        "print(classification_report(Y_test1, pred_data))\n",
        "print(\"교차 검증 점수: {:.4f}\".format(cross_val_score(LR5, X_test1, Y_test1, cv=kf).mean()))\n",
        "print(\"AUC 점수: {:.4f}\".format(roc_auc_score(Y_test1, pred_data)))\n",
        "print(\"F1-Score: {:.4f}\".format(f1_score(pred_data, Y_test1)))"
      ],
      "metadata": {
        "colab": {
          "base_uri": "https://localhost:8080/",
          "height": 485
        },
        "outputId": "63bbf534-1ae2-4c39-9643-7f098ff87303",
        "id": "b9gmygfT9y2Y"
      },
      "execution_count": null,
      "outputs": [
        {
          "output_type": "stream",
          "name": "stdout",
          "text": [
            "              precision    recall  f1-score   support\n",
            "\n",
            "           0       0.81      0.47      0.60      4703\n",
            "           1       0.24      0.59      0.34      1297\n",
            "\n",
            "    accuracy                           0.50      6000\n",
            "   macro avg       0.52      0.53      0.47      6000\n",
            "weighted avg       0.68      0.50      0.54      6000\n",
            "\n",
            "교차 검증 점수: 0.8275\n",
            "AUC 점수: 0.5307\n",
            "F1-Score: 0.3362\n"
          ]
        },
        {
          "output_type": "display_data",
          "data": {
            "text/plain": [
              "<Figure size 432x288 with 2 Axes>"
            ],
            "image/png": "[encoded data removed]"
          },
          "metadata": {
            "needs_background": "light"
          }
        }
      ]
    },
    {
      "cell_type": "code",
      "source": [
        "from sklearn.linear_model import LogisticRegression\n",
        "from sklearn.metrics import confusion_matrix, classification_report, roc_auc_score, f1_score\n",
        "from sklearn.model_selection import cross_val_score, KFold\n",
        "\n",
        "LR6 = LogisticRegression()\n",
        "LR6.fit(data_dev, label_or)\n",
        "pred_data = LR6.predict(X_test2)\n",
        "\n",
        "kf = KFold(n_splits=10)\n",
        "cm2 = pd.DataFrame(confusion_matrix(Y_test2, pred_data))\n",
        "sns.heatmap(cm2, annot=True, cmap='Blues')\n",
        "print(classification_report(Y_test2, pred_data))\n",
        "print(\"교차 검증 점수: {:.4f}\".format(cross_val_score(LR6, X_test2, Y_test2, cv=kf).mean()))\n",
        "print(\"AUC 점수: {:.4f}\".format(roc_auc_score(Y_test2, pred_data)))\n",
        "print(\"F1-Score: {:.4f}\".format(f1_score(pred_data, Y_test2)))"
      ],
      "metadata": {
        "colab": {
          "base_uri": "https://localhost:8080/",
          "height": 489
        },
        "outputId": "9de30f9b-12a7-40c8-a228-0c9d7a3857fc",
        "id": "_H1mjfLR9y2g"
      },
      "execution_count": null,
      "outputs": [
        {
          "output_type": "stream",
          "name": "stdout",
          "text": [
            "              precision    recall  f1-score   support\n",
            "\n",
            "           0       0.80      0.47      0.59      4703\n",
            "           1       0.23      0.58      0.33      1297\n",
            "\n",
            "    accuracy                           0.49      6000\n",
            "   macro avg       0.52      0.53      0.46      6000\n",
            "weighted avg       0.68      0.49      0.54      6000\n",
            "\n",
            "교차 검증 점수: 0.8275\n",
            "AUC 점수: 0.5257\n",
            "F1-Score: 0.3322\n"
          ]
        },
        {
          "output_type": "display_data",
          "data": {
            "text/plain": [
              "<Figure size 432x288 with 2 Axes>"
            ],
            "image/png": "[encoded data removed]"
          },
          "metadata": {
            "needs_background": "light"
          }
        }
      ]
    },
    {
      "cell_type": "code",
      "source": [
        "from sklearn.linear_model import LogisticRegression\n",
        "from sklearn.metrics import confusion_matrix, classification_report, roc_auc_score, f1_score\n",
        "from sklearn.model_selection import cross_val_score, KFold\n",
        "\n",
        "LR7 = LogisticRegression()\n",
        "LR7.fit(data_del, label_or)\n",
        "pred_data = LR7.predict(X_test3)\n",
        "\n",
        "kf = KFold(n_splits=10)\n",
        "cm3 = pd.DataFrame(confusion_matrix(Y_test3, pred_data))\n",
        "sns.heatmap(cm3, annot=True, cmap='Blues')\n",
        "print(classification_report(Y_test3, pred_data))\n",
        "print(\"교차 검증 점수: {:.4f}\".format(cross_val_score(LR7, X_test3, Y_test3, cv=kf).mean()))\n",
        "print(\"AUC 점수: {:.4f}\".format(roc_auc_score(Y_test3, pred_data)))\n",
        "print(\"F1-Score: {:.4f}\".format(f1_score(pred_data, Y_test3)))"
      ],
      "metadata": {
        "colab": {
          "base_uri": "https://localhost:8080/",
          "height": 488
        },
        "outputId": "85f05aaf-026d-4581-97d9-f8cacf5dff27",
        "id": "DEPysSTf9y2g"
      },
      "execution_count": null,
      "outputs": [
        {
          "output_type": "stream",
          "name": "stdout",
          "text": [
            "              precision    recall  f1-score   support\n",
            "\n",
            "           0       0.80      0.47      0.59      4703\n",
            "           1       0.23      0.58      0.33      1297\n",
            "\n",
            "    accuracy                           0.49      6000\n",
            "   macro avg       0.51      0.52      0.46      6000\n",
            "weighted avg       0.68      0.49      0.53      6000\n",
            "\n",
            "교차 검증 점수: 0.8275\n",
            "AUC 점수: 0.5211\n",
            "F1-Score: 0.3281\n"
          ]
        },
        {
          "output_type": "display_data",
          "data": {
            "text/plain": [
              "<Figure size 432x288 with 2 Axes>"
            ],
            "image/png": "[encoded data removed]"
          },
          "metadata": {
            "needs_background": "light"
          }
        }
      ]
    },
    {
      "cell_type": "code",
      "source": [
        "from sklearn.linear_model import LogisticRegression\n",
        "from sklearn.metrics import confusion_matrix, classification_report, roc_auc_score, f1_score\n",
        "from sklearn.model_selection import cross_val_score, KFold\n",
        "\n",
        "LR8 = LogisticRegression()\n",
        "LR8.fit(data_dev_del, label_or)\n",
        "pred_data = LR8.predict(X_test4)\n",
        "\n",
        "kf = KFold(n_splits=10)\n",
        "cm4 = pd.DataFrame(confusion_matrix(Y_test4, pred_data))\n",
        "sns.heatmap(cm4, annot=True, cmap='Blues')\n",
        "print(classification_report(Y_test4, pred_data))\n",
        "print(\"교차 검증 점수: {:.4f}\".format(cross_val_score(LR8, X_test4, Y_test4, cv=kf).mean()))\n",
        "print(\"AUC 점수: {:.4f}\".format(roc_auc_score(Y_test4, pred_data)))\n",
        "print(\"F1-Score: {:.4f}\".format(f1_score(pred_data, Y_test4)))"
      ],
      "metadata": {
        "colab": {
          "base_uri": "https://localhost:8080/",
          "height": 488
        },
        "outputId": "fcc8bd45-7e35-4561-d7df-b1984a76901f",
        "id": "bXucEXPN9y2h"
      },
      "execution_count": null,
      "outputs": [
        {
          "output_type": "stream",
          "name": "stdout",
          "text": [
            "              precision    recall  f1-score   support\n",
            "\n",
            "           0       0.80      0.47      0.59      4703\n",
            "           1       0.23      0.58      0.33      1297\n",
            "\n",
            "    accuracy                           0.49      6000\n",
            "   macro avg       0.51      0.52      0.46      6000\n",
            "weighted avg       0.68      0.49      0.53      6000\n",
            "\n",
            "교차 검증 점수: 0.8273\n",
            "AUC 점수: 0.5211\n",
            "F1-Score: 0.3281\n"
          ]
        },
        {
          "output_type": "display_data",
          "data": {
            "text/plain": [
              "<Figure size 432x288 with 2 Axes>"
            ],
            "image/png": "[encoded data removed]"
          },
          "metadata": {
            "needs_background": "light"
          }
        }
      ]
    },
    {
      "cell_type": "markdown",
      "source": [
        "# 나이브 베이즈"
      ],
      "metadata": {
        "id": "TgbROxcI_c4i"
      }
    },
    {
      "cell_type": "code",
      "source": [
        "from sklearn.naive_bayes import GaussianNB\n",
        "from sklearn.metrics import confusion_matrix, classification_report, roc_auc_score, f1_score\n",
        "from sklearn.model_selection import cross_val_score, KFold\n",
        "\n",
        "NB1 = GaussianNB()\n",
        "NB1.fit(data_over1, label_over1)\n",
        "pred_data = NB1.predict(X_test1)\n",
        "\n",
        "kf = KFold(n_splits=10)\n",
        "cm1 = pd.DataFrame(confusion_matrix(Y_test1, pred_data))\n",
        "sns.heatmap(cm1, annot=True, cmap='Blues')\n",
        "print(classification_report(Y_test1, pred_data))\n",
        "print(\"교차 검증 점수: {:.4f}\".format(cross_val_score(NB1, X_test1, Y_test1, cv=kf).mean()))\n",
        "print(\"AUC 점수: {:.4f}\".format(roc_auc_score(Y_test1, pred_data)))\n",
        "print(\"F1-Score: {:.4f}\".format(f1_score(pred_data, Y_test1)))"
      ],
      "metadata": {
        "colab": {
          "base_uri": "https://localhost:8080/",
          "height": 485
        },
        "outputId": "d6ad087e-3d63-4515-965b-2e030c0973d6",
        "id": "DiacJaTy_frM"
      },
      "execution_count": null,
      "outputs": [
        {
          "output_type": "stream",
          "name": "stdout",
          "text": [
            "              precision    recall  f1-score   support\n",
            "\n",
            "           0       0.88      0.80      0.84      4703\n",
            "           1       0.46      0.61      0.52      1297\n",
            "\n",
            "    accuracy                           0.76      6000\n",
            "   macro avg       0.67      0.70      0.68      6000\n",
            "weighted avg       0.79      0.76      0.77      6000\n",
            "\n",
            "교차 검증 점수: 0.7732\n",
            "AUC 점수: 0.7036\n",
            "F1-Score: 0.5209\n"
          ]
        },
        {
          "output_type": "display_data",
          "data": {
            "text/plain": [
              "<Figure size 432x288 with 2 Axes>"
            ],
            "image/png": "[encoded data removed]"
          },
          "metadata": {
            "needs_background": "light"
          }
        }
      ]
    },
    {
      "cell_type": "code",
      "source": [
        "from sklearn.naive_bayes import GaussianNB\n",
        "from sklearn.metrics import confusion_matrix, classification_report, roc_auc_score, f1_score\n",
        "from sklearn.model_selection import cross_val_score, KFold\n",
        "\n",
        "NB2 = GaussianNB()\n",
        "NB2.fit(data_over2, label_over2)\n",
        "pred_data = NB2.predict(X_test2)\n",
        "\n",
        "kf = KFold(n_splits=10)\n",
        "cm2 = pd.DataFrame(confusion_matrix(Y_test2, pred_data))\n",
        "sns.heatmap(cm2, annot=True, cmap='Blues')\n",
        "print(classification_report(Y_test2, pred_data))\n",
        "print(\"교차 검증 점수: {:.4f}\".format(cross_val_score(NB2, X_test2, Y_test2, cv=kf).mean()))\n",
        "print(\"AUC 점수: {:.4f}\".format(roc_auc_score(Y_test2, pred_data)))\n",
        "print(\"F1-Score: {:.4f}\".format(f1_score(pred_data, Y_test2)))"
      ],
      "metadata": {
        "colab": {
          "base_uri": "https://localhost:8080/",
          "height": 485
        },
        "outputId": "57702006-b66b-43ae-b357-bd44c0a58440",
        "id": "mQ2irjoW_frM"
      },
      "execution_count": null,
      "outputs": [
        {
          "output_type": "stream",
          "name": "stdout",
          "text": [
            "              precision    recall  f1-score   support\n",
            "\n",
            "           0       0.90      0.42      0.58      4703\n",
            "           1       0.28      0.83      0.42      1297\n",
            "\n",
            "    accuracy                           0.51      6000\n",
            "   macro avg       0.59      0.63      0.50      6000\n",
            "weighted avg       0.77      0.51      0.54      6000\n",
            "\n",
            "교차 검증 점수: 0.7922\n",
            "AUC 점수: 0.6255\n",
            "F1-Score: 0.4224\n"
          ]
        },
        {
          "output_type": "display_data",
          "data": {
            "text/plain": [
              "<Figure size 432x288 with 2 Axes>"
            ],
            "image/png": "[encoded data removed]"
          },
          "metadata": {
            "needs_background": "light"
          }
        }
      ]
    },
    {
      "cell_type": "code",
      "source": [
        "from sklearn.naive_bayes import GaussianNB\n",
        "from sklearn.metrics import confusion_matrix, classification_report, roc_auc_score, f1_score\n",
        "from sklearn.model_selection import cross_val_score, KFold\n",
        "\n",
        "NB3 = GaussianNB()\n",
        "NB3.fit(data_over3, label_over3)\n",
        "pred_data = NB3.predict(X_test3)\n",
        "\n",
        "kf = KFold(n_splits=10)\n",
        "cm3 = pd.DataFrame(confusion_matrix(Y_test3, pred_data))\n",
        "sns.heatmap(cm3, annot=True, cmap='Blues')\n",
        "print(classification_report(Y_test3, pred_data))\n",
        "print(\"교차 검증 점수: {:.4f}\".format(cross_val_score(NB3, X_test3, Y_test3, cv=kf).mean()))\n",
        "print(\"AUC 점수: {:.4f}\".format(roc_auc_score(Y_test3, pred_data)))\n",
        "print(\"F1-Score: {:.4f}\".format(f1_score(pred_data, Y_test3)))"
      ],
      "metadata": {
        "colab": {
          "base_uri": "https://localhost:8080/",
          "height": 485
        },
        "outputId": "302ddef2-3775-4fd4-f02e-216af1160dc4",
        "id": "AgldhLKC_frN"
      },
      "execution_count": null,
      "outputs": [
        {
          "output_type": "stream",
          "name": "stdout",
          "text": [
            "              precision    recall  f1-score   support\n",
            "\n",
            "           0       0.89      0.57      0.70      4703\n",
            "           1       0.33      0.76      0.46      1297\n",
            "\n",
            "    accuracy                           0.61      6000\n",
            "   macro avg       0.61      0.66      0.58      6000\n",
            "weighted avg       0.77      0.61      0.64      6000\n",
            "\n",
            "교차 검증 점수: 0.7948\n",
            "AUC 점수: 0.6632\n",
            "F1-Score: 0.4563\n"
          ]
        },
        {
          "output_type": "display_data",
          "data": {
            "text/plain": [
              "<Figure size 432x288 with 2 Axes>"
            ],
            "image/png": "[encoded data removed]"
          },
          "metadata": {
            "needs_background": "light"
          }
        }
      ]
    },
    {
      "cell_type": "code",
      "source": [
        "from sklearn.naive_bayes import GaussianNB\n",
        "from sklearn.metrics import confusion_matrix, classification_report, roc_auc_score, f1_score\n",
        "from sklearn.model_selection import cross_val_score, KFold\n",
        "\n",
        "NB4 = GaussianNB()\n",
        "NB4.fit(data_over4, label_over4)\n",
        "pred_data = NB4.predict(X_test4)\n",
        "\n",
        "kf = KFold(n_splits=10)\n",
        "cm4 = pd.DataFrame(confusion_matrix(Y_test4, pred_data))\n",
        "sns.heatmap(cm4, annot=True, cmap='Blues')\n",
        "print(classification_report(Y_test4, pred_data))\n",
        "print(\"교차 검증 점수: {:.4f}\".format(cross_val_score(NB4, X_test4, Y_test4, cv=kf).mean()))\n",
        "print(\"AUC 점수: {:.4f}\".format(roc_auc_score(Y_test4, pred_data)))\n",
        "print(\"F1-Score: {:.4f}\".format(f1_score(pred_data, Y_test4)))"
      ],
      "metadata": {
        "colab": {
          "base_uri": "https://localhost:8080/",
          "height": 489
        },
        "outputId": "8b501be6-69d1-4f9e-b77a-a782af90bee0",
        "id": "y7TaRwVQ_frN"
      },
      "execution_count": null,
      "outputs": [
        {
          "output_type": "stream",
          "name": "stdout",
          "text": [
            "              precision    recall  f1-score   support\n",
            "\n",
            "           0       0.87      0.85      0.86      4703\n",
            "           1       0.50      0.53      0.51      1297\n",
            "\n",
            "    accuracy                           0.78      6000\n",
            "   macro avg       0.68      0.69      0.69      6000\n",
            "weighted avg       0.79      0.78      0.79      6000\n",
            "\n",
            "교차 검증 점수: 0.7920\n",
            "AUC 점수: 0.6911\n",
            "F1-Score: 0.5133\n"
          ]
        },
        {
          "output_type": "display_data",
          "data": {
            "text/plain": [
              "<Figure size 432x288 with 2 Axes>"
            ],
            "image/png": "[encoded data removed]"
          },
          "metadata": {
            "needs_background": "light"
          }
        }
      ]
    },
    {
      "cell_type": "code",
      "source": [
        "from sklearn.naive_bayes import GaussianNB\n",
        "from sklearn.metrics import confusion_matrix, classification_report, roc_auc_score, f1_score\n",
        "from sklearn.model_selection import cross_val_score, KFold\n",
        "\n",
        "NB5 = GaussianNB()\n",
        "NB5.fit(data_or, label_or)\n",
        "pred_data = NB5.predict(X_test1)\n",
        "\n",
        "kf = KFold(n_splits=10)\n",
        "cm1 = pd.DataFrame(confusion_matrix(Y_test1, pred_data))\n",
        "sns.heatmap(cm1, annot=True, cmap='Blues')\n",
        "print(classification_report(Y_test1, pred_data))\n",
        "print(\"교차 검증 점수: {:.4f}\".format(cross_val_score(NB5, X_test1, Y_test1, cv=kf).mean()))\n",
        "print(\"AUC 점수: {:.4f}\".format(roc_auc_score(Y_test1, pred_data)))\n",
        "print(\"F1-Score: {:.4f}\".format(f1_score(pred_data, Y_test1)))"
      ],
      "metadata": {
        "colab": {
          "base_uri": "https://localhost:8080/",
          "height": 485
        },
        "outputId": "f016660e-ec36-4e2a-abc3-3aec3a1d559f",
        "id": "X_TkRHXK_frN"
      },
      "execution_count": null,
      "outputs": [
        {
          "output_type": "stream",
          "name": "stdout",
          "text": [
            "              precision    recall  f1-score   support\n",
            "\n",
            "           0       0.00      0.00      0.00      4703\n",
            "           1       0.22      1.00      0.36      1297\n",
            "\n",
            "    accuracy                           0.22      6000\n",
            "   macro avg       0.11      0.50      0.18      6000\n",
            "weighted avg       0.05      0.22      0.08      6000\n",
            "\n",
            "교차 검증 점수: 0.7732\n",
            "AUC 점수: 0.5000\n",
            "F1-Score: 0.3555\n"
          ]
        },
        {
          "output_type": "display_data",
          "data": {
            "text/plain": [
              "<Figure size 432x288 with 2 Axes>"
            ],
            "image/png": "[encoded data removed]"
          },
          "metadata": {
            "needs_background": "light"
          }
        }
      ]
    },
    {
      "cell_type": "code",
      "source": [
        "from sklearn.naive_bayes import GaussianNB\n",
        "from sklearn.metrics import confusion_matrix, classification_report, roc_auc_score, f1_score\n",
        "from sklearn.model_selection import cross_val_score, KFold\n",
        "\n",
        "NB6 = GaussianNB()\n",
        "NB6.fit(data_dev, label_or)\n",
        "pred_data = NB6.predict(X_test2)\n",
        "\n",
        "kf = KFold(n_splits=10)\n",
        "cm2 = pd.DataFrame(confusion_matrix(Y_test2, pred_data))\n",
        "sns.heatmap(cm2, annot=True, cmap='Blues')\n",
        "print(classification_report(Y_test2, pred_data))\n",
        "print(\"교차 검증 점수: {:.4f}\".format(cross_val_score(NB6, X_test2, Y_test2, cv=kf).mean()))\n",
        "print(\"AUC 점수: {:.4f}\".format(roc_auc_score(Y_test2, pred_data)))\n",
        "print(\"F1-Score: {:.4f}\".format(f1_score(pred_data, Y_test2)))"
      ],
      "metadata": {
        "colab": {
          "base_uri": "https://localhost:8080/",
          "height": 485
        },
        "outputId": "a0b8e593-3add-42a7-a0c1-a1cd60ae9873",
        "id": "Du0Zhogi_frO"
      },
      "execution_count": null,
      "outputs": [
        {
          "output_type": "stream",
          "name": "stdout",
          "text": [
            "              precision    recall  f1-score   support\n",
            "\n",
            "           0       0.00      0.00      0.00      4703\n",
            "           1       0.22      1.00      0.36      1297\n",
            "\n",
            "    accuracy                           0.22      6000\n",
            "   macro avg       0.11      0.50      0.18      6000\n",
            "weighted avg       0.05      0.22      0.08      6000\n",
            "\n",
            "교차 검증 점수: 0.7922\n",
            "AUC 점수: 0.5000\n",
            "F1-Score: 0.3555\n"
          ]
        },
        {
          "output_type": "display_data",
          "data": {
            "text/plain": [
              "<Figure size 432x288 with 2 Axes>"
            ],
            "image/png": "[encoded data removed]"
          },
          "metadata": {
            "needs_background": "light"
          }
        }
      ]
    },
    {
      "cell_type": "code",
      "source": [
        "from sklearn.naive_bayes import GaussianNB\n",
        "from sklearn.metrics import confusion_matrix, classification_report, roc_auc_score, f1_score\n",
        "from sklearn.model_selection import cross_val_score, KFold\n",
        "\n",
        "NB7 = GaussianNB()\n",
        "NB7.fit(data_del, label_or)\n",
        "pred_data = NB7.predict(X_test3)\n",
        "\n",
        "kf = KFold(n_splits=10)\n",
        "cm3 = pd.DataFrame(confusion_matrix(Y_test3, pred_data))\n",
        "sns.heatmap(cm3, annot=True, cmap='Blues')\n",
        "print(classification_report(Y_test3, pred_data))\n",
        "print(\"교차 검증 점수: {:.4f}\".format(cross_val_score(NB7, X_test3, Y_test3, cv=kf).mean()))\n",
        "print(\"AUC 점수: {:.4f}\".format(roc_auc_score(Y_test3, pred_data)))\n",
        "print(\"F1-Score: {:.4f}\".format(f1_score(pred_data, Y_test3)))"
      ],
      "metadata": {
        "colab": {
          "base_uri": "https://localhost:8080/",
          "height": 485
        },
        "outputId": "64662cf4-3d0c-44fa-98ee-5277f29879df",
        "id": "xnVDgOaa_frO"
      },
      "execution_count": null,
      "outputs": [
        {
          "output_type": "stream",
          "name": "stdout",
          "text": [
            "              precision    recall  f1-score   support\n",
            "\n",
            "           0       0.00      0.00      0.00      4703\n",
            "           1       0.22      1.00      0.36      1297\n",
            "\n",
            "    accuracy                           0.22      6000\n",
            "   macro avg       0.11      0.50      0.18      6000\n",
            "weighted avg       0.05      0.22      0.08      6000\n",
            "\n",
            "교차 검증 점수: 0.7948\n",
            "AUC 점수: 0.5000\n",
            "F1-Score: 0.3555\n"
          ]
        },
        {
          "output_type": "display_data",
          "data": {
            "text/plain": [
              "<Figure size 432x288 with 2 Axes>"
            ],
            "image/png": "[encoded data removed]"
          },
          "metadata": {
            "needs_background": "light"
          }
        }
      ]
    },
    {
      "cell_type": "code",
      "source": [
        "from sklearn.naive_bayes import GaussianNB\n",
        "from sklearn.metrics import confusion_matrix, classification_report, roc_auc_score, f1_score\n",
        "from sklearn.model_selection import cross_val_score, KFold\n",
        "\n",
        "NB8 = GaussianNB()\n",
        "NB8.fit(data_dev_del, label_or)\n",
        "pred_data = NB8.predict(X_test4)\n",
        "\n",
        "kf = KFold(n_splits=10)\n",
        "cm4 = pd.DataFrame(confusion_matrix(Y_test4, pred_data))\n",
        "sns.heatmap(cm4, annot=True, cmap='Blues')\n",
        "print(classification_report(Y_test4, pred_data))\n",
        "print(\"교차 검증 점수: {:.4f}\".format(cross_val_score(NB8, X_test4, Y_test4, cv=kf).mean()))\n",
        "print(\"AUC 점수: {:.4f}\".format(roc_auc_score(Y_test4, pred_data)))\n",
        "print(\"F1-Score: {:.4f}\".format(f1_score(pred_data, Y_test4)))"
      ],
      "metadata": {
        "colab": {
          "base_uri": "https://localhost:8080/",
          "height": 485
        },
        "outputId": "c133a5f5-bfa2-4f64-fdd1-02929fb872ee",
        "id": "X0icA0lN_frO"
      },
      "execution_count": null,
      "outputs": [
        {
          "output_type": "stream",
          "name": "stdout",
          "text": [
            "              precision    recall  f1-score   support\n",
            "\n",
            "           0       0.00      0.00      0.00      4703\n",
            "           1       0.22      1.00      0.36      1297\n",
            "\n",
            "    accuracy                           0.22      6000\n",
            "   macro avg       0.11      0.50      0.18      6000\n",
            "weighted avg       0.05      0.22      0.08      6000\n",
            "\n",
            "교차 검증 점수: 0.7920\n",
            "AUC 점수: 0.5000\n",
            "F1-Score: 0.3555\n"
          ]
        },
        {
          "output_type": "display_data",
          "data": {
            "text/plain": [
              "<Figure size 432x288 with 2 Axes>"
            ],
            "image/png": "[encoded data removed]"
          },
          "metadata": {
            "needs_background": "light"
          }
        }
      ]
    },
    {
      "cell_type": "code",
      "source": [],
      "metadata": {
        "id": "mLF9un1kLToC"
      },
      "execution_count": null,
      "outputs": []
    }
  ]
}